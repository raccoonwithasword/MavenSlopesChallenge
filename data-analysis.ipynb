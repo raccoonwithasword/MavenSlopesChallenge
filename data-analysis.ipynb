{
 "cells": [
  {
   "cell_type": "markdown",
   "id": "f9b40805",
   "metadata": {},
   "source": [
    "# Maven Slopes Challenge"
   ]
  },
  {
   "cell_type": "markdown",
   "id": "873cf780",
   "metadata": {},
   "source": [
    "## Importing libraries"
   ]
  },
  {
   "cell_type": "code",
   "execution_count": 1,
   "id": "d4e2721e",
   "metadata": {},
   "outputs": [],
   "source": [
    "import pandas as pd\n",
    "import pandasql as ps\n",
    "from pandasql import sqldf"
   ]
  },
  {
   "cell_type": "markdown",
   "id": "7ae73cec",
   "metadata": {},
   "source": [
    "## Importing datasets"
   ]
  },
  {
   "cell_type": "code",
   "execution_count": 2,
   "id": "ce7b27e3",
   "metadata": {},
   "outputs": [],
   "source": [
    "data_dictionary = pd.read_csv(r\"./Ski-Resorts/data_dictionary.csv\", encoding='cp1252')\n",
    "resorts = pd.read_csv(r\".\\Ski-Resorts\\resorts.csv\", encoding='cp1252')\n",
    "snow = pd.read_csv(r\"./Ski-Resorts/snow.csv\")"
   ]
  },
  {
   "cell_type": "markdown",
   "id": "1355e6a6",
   "metadata": {},
   "source": [
    "## Exploring datasets"
   ]
  },
  {
   "cell_type": "markdown",
   "id": "6f55180e",
   "metadata": {},
   "source": [
    "### Data Dictionary"
   ]
  },
  {
   "cell_type": "code",
   "execution_count": 3,
   "id": "514cccc0",
   "metadata": {},
   "outputs": [
    {
     "name": "stdout",
     "output_type": "stream",
     "text": [
      "<class 'pandas.core.frame.DataFrame'>\n",
      "RangeIndex: 29 entries, 0 to 28\n",
      "Data columns (total 3 columns):\n",
      " #   Column       Non-Null Count  Dtype \n",
      "---  ------       --------------  ----- \n",
      " 0   Table        29 non-null     object\n",
      " 1   Field        29 non-null     object\n",
      " 2   Description  29 non-null     object\n",
      "dtypes: object(3)\n",
      "memory usage: 824.0+ bytes\n"
     ]
    }
   ],
   "source": [
    "data_dictionary.info()"
   ]
  },
  {
   "cell_type": "code",
   "execution_count": 4,
   "id": "20dfe290",
   "metadata": {},
   "outputs": [
    {
     "data": {
      "text/plain": [
       "Table          0\n",
       "Field          0\n",
       "Description    0\n",
       "dtype: int64"
      ]
     },
     "execution_count": 4,
     "metadata": {},
     "output_type": "execute_result"
    }
   ],
   "source": [
    "data_dictionary.isna().sum()"
   ]
  },
  {
   "cell_type": "code",
   "execution_count": 5,
   "id": "9f9001f9",
   "metadata": {},
   "outputs": [
    {
     "data": {
      "text/plain": [
       "0"
      ]
     },
     "execution_count": 5,
     "metadata": {},
     "output_type": "execute_result"
    }
   ],
   "source": [
    "data_dictionary.duplicated().sum()"
   ]
  },
  {
   "cell_type": "code",
   "execution_count": 6,
   "id": "e9bc842a",
   "metadata": {},
   "outputs": [
    {
     "data": {
      "text/plain": [
       "array([ 0,  1,  2,  3,  4,  5,  6,  7,  8,  9, 10, 11, 12, 13, 14, 15, 16,\n",
       "       17, 18, 19, 20, 21, 22, 23, 24, 25, 26, 27, 28], dtype=int64)"
      ]
     },
     "execution_count": 6,
     "metadata": {},
     "output_type": "execute_result"
    }
   ],
   "source": [
    "data_dictionary.index.values"
   ]
  },
  {
   "cell_type": "code",
   "execution_count": 7,
   "id": "8891a33c",
   "metadata": {
    "scrolled": true
   },
   "outputs": [
    {
     "name": "stdout",
     "output_type": "stream",
     "text": [
      "<class 'pandas.core.series.Series'>\n",
      "RangeIndex: 29 entries, 0 to 28\n",
      "Series name: Table\n",
      "Non-Null Count  Dtype \n",
      "--------------  ----- \n",
      "29 non-null     object\n",
      "dtypes: object(1)\n",
      "memory usage: 360.0+ bytes\n"
     ]
    }
   ],
   "source": [
    "data_dictionary[\"Table\"].info()"
   ]
  },
  {
   "cell_type": "code",
   "execution_count": 8,
   "id": "9a52022f",
   "metadata": {},
   "outputs": [],
   "source": [
    "data_dictionary.rename(columns={\"Table\":\"table_name\"},inplace=True)"
   ]
  },
  {
   "cell_type": "code",
   "execution_count": 9,
   "id": "5fd5f83b",
   "metadata": {},
   "outputs": [
    {
     "data": {
      "text/html": [
       "<div>\n",
       "<style scoped>\n",
       "    .dataframe tbody tr th:only-of-type {\n",
       "        vertical-align: middle;\n",
       "    }\n",
       "\n",
       "    .dataframe tbody tr th {\n",
       "        vertical-align: top;\n",
       "    }\n",
       "\n",
       "    .dataframe thead th {\n",
       "        text-align: right;\n",
       "    }\n",
       "</style>\n",
       "<table border=\"1\" class=\"dataframe\">\n",
       "  <thead>\n",
       "    <tr style=\"text-align: right;\">\n",
       "      <th></th>\n",
       "      <th>table_name</th>\n",
       "      <th>Description</th>\n",
       "    </tr>\n",
       "  </thead>\n",
       "  <tbody>\n",
       "    <tr>\n",
       "      <th>0</th>\n",
       "      <td>Resorts</td>\n",
       "      <td>Unique identifier for each resort</td>\n",
       "    </tr>\n",
       "    <tr>\n",
       "      <th>1</th>\n",
       "      <td>Resorts</td>\n",
       "      <td>Name of the ski &amp; snowboard resort</td>\n",
       "    </tr>\n",
       "    <tr>\n",
       "      <th>2</th>\n",
       "      <td>Resorts</td>\n",
       "      <td>Latitude for the resort's location</td>\n",
       "    </tr>\n",
       "    <tr>\n",
       "      <th>3</th>\n",
       "      <td>Resorts</td>\n",
       "      <td>Longitude for the resort's location</td>\n",
       "    </tr>\n",
       "    <tr>\n",
       "      <th>4</th>\n",
       "      <td>Resorts</td>\n",
       "      <td>Country in which the resort is located</td>\n",
       "    </tr>\n",
       "    <tr>\n",
       "      <th>5</th>\n",
       "      <td>Resorts</td>\n",
       "      <td>Continent in which the resort is located</td>\n",
       "    </tr>\n",
       "    <tr>\n",
       "      <th>6</th>\n",
       "      <td>Resorts</td>\n",
       "      <td>Ski pass cost for 1 adult for 1 day in the mai...</td>\n",
       "    </tr>\n",
       "    <tr>\n",
       "      <th>7</th>\n",
       "      <td>Resorts</td>\n",
       "      <td>Normal start and end of the ski season at the ...</td>\n",
       "    </tr>\n",
       "    <tr>\n",
       "      <th>8</th>\n",
       "      <td>Resorts</td>\n",
       "      <td>Highest mountain point at the resort (meters)</td>\n",
       "    </tr>\n",
       "    <tr>\n",
       "      <th>9</th>\n",
       "      <td>Resorts</td>\n",
       "      <td>Lowest possible point to ski at the resort (me...</td>\n",
       "    </tr>\n",
       "    <tr>\n",
       "      <th>10</th>\n",
       "      <td>Resorts</td>\n",
       "      <td>Total length of \"children\", \"blue\", and \"green...</td>\n",
       "    </tr>\n",
       "    <tr>\n",
       "      <th>11</th>\n",
       "      <td>Resorts</td>\n",
       "      <td>Total length of \"red\" slopes at the resort (km)</td>\n",
       "    </tr>\n",
       "    <tr>\n",
       "      <th>12</th>\n",
       "      <td>Resorts</td>\n",
       "      <td>Total length of \"black\", \"advanced\", and \"expe...</td>\n",
       "    </tr>\n",
       "    <tr>\n",
       "      <th>13</th>\n",
       "      <td>Resorts</td>\n",
       "      <td>Total length of slopes at the resort (km)</td>\n",
       "    </tr>\n",
       "    <tr>\n",
       "      <th>14</th>\n",
       "      <td>Resorts</td>\n",
       "      <td>Longest possible continuous run at the ski res...</td>\n",
       "    </tr>\n",
       "    <tr>\n",
       "      <th>15</th>\n",
       "      <td>Resorts</td>\n",
       "      <td>Total amount of snow cannons at the resort</td>\n",
       "    </tr>\n",
       "    <tr>\n",
       "      <th>16</th>\n",
       "      <td>Resorts</td>\n",
       "      <td>Total number of surface lifts, including T-bar...</td>\n",
       "    </tr>\n",
       "    <tr>\n",
       "      <th>17</th>\n",
       "      <td>Resorts</td>\n",
       "      <td>Total number of chair lifts</td>\n",
       "    </tr>\n",
       "    <tr>\n",
       "      <th>18</th>\n",
       "      <td>Resorts</td>\n",
       "      <td>Total number of gondola lifts, including Gondo...</td>\n",
       "    </tr>\n",
       "    <tr>\n",
       "      <th>19</th>\n",
       "      <td>Resorts</td>\n",
       "      <td>Total number of lifts</td>\n",
       "    </tr>\n",
       "    <tr>\n",
       "      <th>20</th>\n",
       "      <td>Resorts</td>\n",
       "      <td>Number of passengers the resort's lift system ...</td>\n",
       "    </tr>\n",
       "    <tr>\n",
       "      <th>21</th>\n",
       "      <td>Resorts</td>\n",
       "      <td>Is the ski resort child friendly?</td>\n",
       "    </tr>\n",
       "    <tr>\n",
       "      <th>22</th>\n",
       "      <td>Resorts</td>\n",
       "      <td>Does the resort have one or more snowparks?</td>\n",
       "    </tr>\n",
       "    <tr>\n",
       "      <th>23</th>\n",
       "      <td>Resorts</td>\n",
       "      <td>Does the resort offer skiing on illuminated sl...</td>\n",
       "    </tr>\n",
       "    <tr>\n",
       "      <th>24</th>\n",
       "      <td>Resorts</td>\n",
       "      <td>Does the resort offer skiing during the summer?</td>\n",
       "    </tr>\n",
       "    <tr>\n",
       "      <th>25</th>\n",
       "      <td>Snow</td>\n",
       "      <td>Date to represent the month of the year (not j...</td>\n",
       "    </tr>\n",
       "    <tr>\n",
       "      <th>26</th>\n",
       "      <td>Snow</td>\n",
       "      <td>Latitude at the center of the region (every \"r...</td>\n",
       "    </tr>\n",
       "    <tr>\n",
       "      <th>27</th>\n",
       "      <td>Snow</td>\n",
       "      <td>Longitude at the center of the region (every \"...</td>\n",
       "    </tr>\n",
       "    <tr>\n",
       "      <th>28</th>\n",
       "      <td>Snow</td>\n",
       "      <td>Percent of time the region was covered in snow...</td>\n",
       "    </tr>\n",
       "  </tbody>\n",
       "</table>\n",
       "</div>"
      ],
      "text/plain": [
       "   table_name                                        Description\n",
       "0     Resorts                  Unique identifier for each resort\n",
       "1     Resorts                 Name of the ski & snowboard resort\n",
       "2     Resorts                 Latitude for the resort's location\n",
       "3     Resorts                Longitude for the resort's location\n",
       "4     Resorts             Country in which the resort is located\n",
       "5     Resorts           Continent in which the resort is located\n",
       "6     Resorts  Ski pass cost for 1 adult for 1 day in the mai...\n",
       "7     Resorts  Normal start and end of the ski season at the ...\n",
       "8     Resorts      Highest mountain point at the resort (meters)\n",
       "9     Resorts  Lowest possible point to ski at the resort (me...\n",
       "10    Resorts  Total length of \"children\", \"blue\", and \"green...\n",
       "11    Resorts    Total length of \"red\" slopes at the resort (km)\n",
       "12    Resorts  Total length of \"black\", \"advanced\", and \"expe...\n",
       "13    Resorts          Total length of slopes at the resort (km)\n",
       "14    Resorts  Longest possible continuous run at the ski res...\n",
       "15    Resorts         Total amount of snow cannons at the resort\n",
       "16    Resorts  Total number of surface lifts, including T-bar...\n",
       "17    Resorts                        Total number of chair lifts\n",
       "18    Resorts  Total number of gondola lifts, including Gondo...\n",
       "19    Resorts                              Total number of lifts\n",
       "20    Resorts  Number of passengers the resort's lift system ...\n",
       "21    Resorts                  Is the ski resort child friendly?\n",
       "22    Resorts        Does the resort have one or more snowparks?\n",
       "23    Resorts  Does the resort offer skiing on illuminated sl...\n",
       "24    Resorts    Does the resort offer skiing during the summer?\n",
       "25       Snow  Date to represent the month of the year (not j...\n",
       "26       Snow  Latitude at the center of the region (every \"r...\n",
       "27       Snow  Longitude at the center of the region (every \"...\n",
       "28       Snow  Percent of time the region was covered in snow..."
      ]
     },
     "execution_count": 9,
     "metadata": {},
     "output_type": "execute_result"
    }
   ],
   "source": [
    "sqldf(\"select table_name, Description from data_dictionary\")"
   ]
  },
  {
   "cell_type": "markdown",
   "id": "c5b5f445",
   "metadata": {},
   "source": [
    "### Resorts"
   ]
  },
  {
   "cell_type": "code",
   "execution_count": 10,
   "id": "57dc9501",
   "metadata": {},
   "outputs": [
    {
     "name": "stdout",
     "output_type": "stream",
     "text": [
      "<class 'pandas.core.frame.DataFrame'>\n",
      "RangeIndex: 499 entries, 0 to 498\n",
      "Data columns (total 25 columns):\n",
      " #   Column               Non-Null Count  Dtype  \n",
      "---  ------               --------------  -----  \n",
      " 0   ID                   499 non-null    int64  \n",
      " 1   Resort               499 non-null    object \n",
      " 2   Latitude             499 non-null    float64\n",
      " 3   Longitude            499 non-null    float64\n",
      " 4   Country              499 non-null    object \n",
      " 5   Continent            499 non-null    object \n",
      " 6   Price                499 non-null    int64  \n",
      " 7   Season               499 non-null    object \n",
      " 8   Highest point        499 non-null    int64  \n",
      " 9   Lowest point         499 non-null    int64  \n",
      " 10  Beginner slopes      499 non-null    int64  \n",
      " 11  Intermediate slopes  499 non-null    int64  \n",
      " 12  Difficult slopes     499 non-null    int64  \n",
      " 13  Total slopes         499 non-null    int64  \n",
      " 14  Longest run          499 non-null    int64  \n",
      " 15  Snow cannons         499 non-null    int64  \n",
      " 16  Surface lifts        499 non-null    int64  \n",
      " 17  Chair lifts          499 non-null    int64  \n",
      " 18  Gondola lifts        499 non-null    int64  \n",
      " 19  Total lifts          499 non-null    int64  \n",
      " 20  Lift capacity        499 non-null    int64  \n",
      " 21  Child friendly       499 non-null    object \n",
      " 22  Snowparks            499 non-null    object \n",
      " 23  Nightskiing          499 non-null    object \n",
      " 24  Summer skiing        499 non-null    object \n",
      "dtypes: float64(2), int64(15), object(8)\n",
      "memory usage: 97.6+ KB\n"
     ]
    }
   ],
   "source": [
    "resorts.info()"
   ]
  },
  {
   "cell_type": "code",
   "execution_count": 11,
   "id": "f3bbef20",
   "metadata": {},
   "outputs": [
    {
     "data": {
      "text/html": [
       "<div>\n",
       "<style scoped>\n",
       "    .dataframe tbody tr th:only-of-type {\n",
       "        vertical-align: middle;\n",
       "    }\n",
       "\n",
       "    .dataframe tbody tr th {\n",
       "        vertical-align: top;\n",
       "    }\n",
       "\n",
       "    .dataframe thead th {\n",
       "        text-align: right;\n",
       "    }\n",
       "</style>\n",
       "<table border=\"1\" class=\"dataframe\">\n",
       "  <thead>\n",
       "    <tr style=\"text-align: right;\">\n",
       "      <th></th>\n",
       "      <th>Longitude</th>\n",
       "    </tr>\n",
       "  </thead>\n",
       "  <tbody>\n",
       "    <tr>\n",
       "      <th>0</th>\n",
       "      <td>8.383487</td>\n",
       "    </tr>\n",
       "    <tr>\n",
       "      <th>1</th>\n",
       "      <td>8.206372</td>\n",
       "    </tr>\n",
       "    <tr>\n",
       "      <th>2</th>\n",
       "      <td>9.828167</td>\n",
       "    </tr>\n",
       "    <tr>\n",
       "      <th>3</th>\n",
       "      <td>-117.846280</td>\n",
       "    </tr>\n",
       "    <tr>\n",
       "      <th>4</th>\n",
       "      <td>10.529014</td>\n",
       "    </tr>\n",
       "    <tr>\n",
       "      <th>...</th>\n",
       "      <td>...</td>\n",
       "    </tr>\n",
       "    <tr>\n",
       "      <th>494</th>\n",
       "      <td>2.108883</td>\n",
       "    </tr>\n",
       "    <tr>\n",
       "      <th>495</th>\n",
       "      <td>11.228630</td>\n",
       "    </tr>\n",
       "    <tr>\n",
       "      <th>496</th>\n",
       "      <td>10.927998</td>\n",
       "    </tr>\n",
       "    <tr>\n",
       "      <th>497</th>\n",
       "      <td>15.789964</td>\n",
       "    </tr>\n",
       "    <tr>\n",
       "      <th>498</th>\n",
       "      <td>-70.625986</td>\n",
       "    </tr>\n",
       "  </tbody>\n",
       "</table>\n",
       "<p>499 rows × 1 columns</p>\n",
       "</div>"
      ],
      "text/plain": [
       "      Longitude\n",
       "0      8.383487\n",
       "1      8.206372\n",
       "2      9.828167\n",
       "3   -117.846280\n",
       "4     10.529014\n",
       "..          ...\n",
       "494    2.108883\n",
       "495   11.228630\n",
       "496   10.927998\n",
       "497   15.789964\n",
       "498  -70.625986\n",
       "\n",
       "[499 rows x 1 columns]"
      ]
     },
     "execution_count": 11,
     "metadata": {},
     "output_type": "execute_result"
    }
   ],
   "source": [
    "sqldf(\"select longitude from resorts\")"
   ]
  },
  {
   "cell_type": "code",
   "execution_count": 12,
   "id": "76bfcc51",
   "metadata": {},
   "outputs": [
    {
     "data": {
      "text/plain": [
       "array(['Yes', 'No'], dtype=object)"
      ]
     },
     "execution_count": 12,
     "metadata": {},
     "output_type": "execute_result"
    }
   ],
   "source": [
    "resorts[\"Child friendly\"].unique()"
   ]
  },
  {
   "cell_type": "code",
   "execution_count": 13,
   "id": "acef2b39",
   "metadata": {},
   "outputs": [
    {
     "data": {
      "text/plain": [
       "ID                     0\n",
       "Resort                 0\n",
       "Latitude               0\n",
       "Longitude              0\n",
       "Country                0\n",
       "Continent              0\n",
       "Price                  0\n",
       "Season                 0\n",
       "Highest point          0\n",
       "Lowest point           0\n",
       "Beginner slopes        0\n",
       "Intermediate slopes    0\n",
       "Difficult slopes       0\n",
       "Total slopes           0\n",
       "Longest run            0\n",
       "Snow cannons           0\n",
       "Surface lifts          0\n",
       "Chair lifts            0\n",
       "Gondola lifts          0\n",
       "Total lifts            0\n",
       "Lift capacity          0\n",
       "Child friendly         0\n",
       "Snowparks              0\n",
       "Nightskiing            0\n",
       "Summer skiing          0\n",
       "dtype: int64"
      ]
     },
     "execution_count": 13,
     "metadata": {},
     "output_type": "execute_result"
    }
   ],
   "source": [
    "resorts.isna().sum()"
   ]
  },
  {
   "cell_type": "code",
   "execution_count": 14,
   "id": "e8faecd2",
   "metadata": {},
   "outputs": [
    {
     "data": {
      "text/plain": [
       "0"
      ]
     },
     "execution_count": 14,
     "metadata": {},
     "output_type": "execute_result"
    }
   ],
   "source": [
    "resorts.duplicated().sum()"
   ]
  },
  {
   "cell_type": "markdown",
   "id": "115221ca",
   "metadata": {},
   "source": [
    "### Snow"
   ]
  },
  {
   "cell_type": "code",
   "execution_count": 15,
   "id": "2af4a411",
   "metadata": {},
   "outputs": [
    {
     "name": "stdout",
     "output_type": "stream",
     "text": [
      "<class 'pandas.core.frame.DataFrame'>\n",
      "RangeIndex: 820522 entries, 0 to 820521\n",
      "Data columns (total 4 columns):\n",
      " #   Column     Non-Null Count   Dtype  \n",
      "---  ------     --------------   -----  \n",
      " 0   Month      820522 non-null  object \n",
      " 1   Latitude   820522 non-null  float64\n",
      " 2   Longitude  820522 non-null  float64\n",
      " 3   Snow       820522 non-null  float64\n",
      "dtypes: float64(3), object(1)\n",
      "memory usage: 25.0+ MB\n"
     ]
    }
   ],
   "source": [
    "snow.info()"
   ]
  },
  {
   "cell_type": "code",
   "execution_count": 16,
   "id": "fa62fe04",
   "metadata": {},
   "outputs": [
    {
     "data": {
      "text/plain": [
       "Month        0\n",
       "Latitude     0\n",
       "Longitude    0\n",
       "Snow         0\n",
       "dtype: int64"
      ]
     },
     "execution_count": 16,
     "metadata": {},
     "output_type": "execute_result"
    }
   ],
   "source": [
    "snow.isna().sum()"
   ]
  },
  {
   "cell_type": "code",
   "execution_count": 17,
   "id": "4cbe5b97",
   "metadata": {
    "scrolled": true
   },
   "outputs": [
    {
     "data": {
      "text/plain": [
       "0"
      ]
     },
     "execution_count": 17,
     "metadata": {},
     "output_type": "execute_result"
    }
   ],
   "source": [
    "snow.duplicated().sum()"
   ]
  },
  {
   "cell_type": "markdown",
   "id": "5b5e4bdf",
   "metadata": {},
   "source": [
    "## Checking similarities"
   ]
  },
  {
   "cell_type": "code",
   "execution_count": 18,
   "id": "7d702e9b",
   "metadata": {},
   "outputs": [
    {
     "data": {
      "text/plain": [
       "499"
      ]
     },
     "execution_count": 18,
     "metadata": {},
     "output_type": "execute_result"
    }
   ],
   "source": [
    "len(resorts[\"Longitude\"])"
   ]
  },
  {
   "cell_type": "code",
   "execution_count": 19,
   "id": "cf86c05c",
   "metadata": {},
   "outputs": [
    {
     "data": {
      "text/plain": [
       "494"
      ]
     },
     "execution_count": 19,
     "metadata": {},
     "output_type": "execute_result"
    }
   ],
   "source": [
    "len(resorts[\"Longitude\"].unique())"
   ]
  },
  {
   "cell_type": "code",
   "execution_count": 20,
   "id": "f606e02f",
   "metadata": {},
   "outputs": [
    {
     "data": {
      "text/plain": [
       "820522"
      ]
     },
     "execution_count": 20,
     "metadata": {},
     "output_type": "execute_result"
    }
   ],
   "source": [
    "len(snow[\"Longitude\"])"
   ]
  },
  {
   "cell_type": "code",
   "execution_count": 21,
   "id": "afc3e291",
   "metadata": {},
   "outputs": [
    {
     "data": {
      "text/plain": [
       "1424"
      ]
     },
     "execution_count": 21,
     "metadata": {},
     "output_type": "execute_result"
    }
   ],
   "source": [
    "len(snow[\"Longitude\"].unique())"
   ]
  },
  {
   "cell_type": "code",
   "execution_count": 22,
   "id": "3a971a9d",
   "metadata": {},
   "outputs": [
    {
     "name": "stdout",
     "output_type": "stream",
     "text": [
      "[  68.875   69.125   69.375 ...  -27.375  -13.625 -168.375]\n"
     ]
    }
   ],
   "source": [
    "print(snow[\"Longitude\"].unique())"
   ]
  },
  {
   "cell_type": "code",
   "execution_count": 23,
   "id": "4b440b95",
   "metadata": {},
   "outputs": [
    {
     "name": "stdout",
     "output_type": "stream",
     "text": [
      "[ 8.38348693e+00  8.20637190e+00  9.82816680e+00 -1.17846280e+02\n",
      "  1.05290136e+01  6.40790481e+00  1.76876668e+02 -7.20718055e+01\n",
      "  1.29205276e+01  1.30589774e+01 -1.15062867e+02 -1.19882329e+02\n",
      " -1.19120561e+02  1.15547350e+01  7.71541219e+00  1.68872825e+02\n",
      "  1.16444217e+01  7.75261568e+00  6.66333120e+00  6.85296242e+00\n",
      " -3.24720400e+00 -1.09853751e+02 -1.06840605e+02  6.68919869e+00\n",
      " -1.06984043e+02 -9.86761916e+01 -1.11497996e+02 -4.99876810e+00\n",
      " -8.06698426e+01  1.68815859e+02  9.38983345e+00  6.94861190e+00\n",
      "  1.01289555e+01  1.08270157e+01  1.33031532e+01  1.07136205e+01\n",
      "  1.26360850e+01  6.88065800e+00  1.18601176e+01 -1.16962465e+02\n",
      "  1.73338209e+00  9.79800889e+00  9.87745068e+00  9.84934060e+00\n",
      "  7.15664350e+00 -1.18933872e+02  1.10387065e+01  1.68739571e+02\n",
      "  6.12376090e+00 -7.02486776e+01  1.51659179e+02 -7.01290835e+01\n",
      " -7.14441710e+01 -1.22954302e+02  1.11404900e+01  6.43578716e+00\n",
      "  6.91883574e+00  6.70491225e+00  6.55103130e+00  6.55409800e+00\n",
      "  6.77028570e+00  6.84361900e+00 -1.55379300e-01 -1.39920900e-01\n",
      "  6.30672230e+00  6.63498920e+00  6.50007614e+00  6.06994430e+00\n",
      "  6.59639930e+00  6.88490940e+00  6.47862690e+00  6.72972600e+00\n",
      "  7.04679450e+00  6.58226930e+00  6.55002820e+00  7.96089680e+00\n",
      "  4.78040990e+00  6.92389250e+00 -1.05782709e+02  1.49126058e+00\n",
      "  2.91311291e+01  2.48557289e+01  1.40687303e+02  1.37843957e+01\n",
      "  1.64969630e+00  2.34841698e+01 -9.53039943e+01 -1.06829206e+02\n",
      " -1.49740657e+02 -1.19246785e+02 -1.06380167e+02  1.26874982e+01\n",
      " -1.11857428e+02 -1.06515002e+02 -5.10644312e+00  1.10070193e+01\n",
      "  1.10173260e+01 -9.89032554e+01  1.35569603e+01  1.13079828e+01\n",
      "  1.06191371e+01  1.29564132e+01  1.18638664e+01  1.01404336e+01\n",
      "  1.13030187e+01  1.33922888e+01  1.19265100e+01  1.02745177e+01\n",
      "  1.31352653e+01  9.91872230e+00  1.23911473e+01  1.01705903e+01\n",
      "  1.25444243e+01  1.36867878e+01  1.22922477e+01  1.34568962e+01\n",
      "  1.22217486e+01  9.97677859e+00  1.01601980e+01  1.21901320e+01\n",
      "  1.24286809e+01  1.54708255e+01  6.97306180e+00 -3.38788500e+00\n",
      "  1.21373506e+01  1.07974224e+01  7.92470550e+00  7.73137165e+00\n",
      "  1.19583111e+01 -3.60861100e-01  9.34717500e-01  6.86028270e+00\n",
      "  7.31696840e+00  7.29617785e+00  7.52643580e+00  8.41063826e+00\n",
      "  9.56602441e+00  7.27650639e+00  9.81895900e+00  5.56622160e+00\n",
      "  7.10960870e+00  1.08106751e+01  1.31954241e+01  6.57428300e+00\n",
      "  6.53769700e+00  6.24886571e+00  6.69561565e+00  6.68566617e+00\n",
      " -1.11401115e+02 -1.06986156e+02  1.66826940e+00  9.21718066e+00\n",
      "  5.53420650e+00 -2.26732930e+00  6.46450262e+00  1.20391860e+01\n",
      "  1.95620590e+00 -1.16177535e+02  6.93098390e+00 -1.20767615e+02\n",
      " -9.21979353e+01  1.19102193e+01 -7.27784445e+01 -9.03856733e+01\n",
      "  6.41969111e+00  5.55956400e+00  6.81704090e+00  7.14544121e+00\n",
      "  9.10227120e+00  6.03359138e+00  9.81951176e+00 -7.60335483e+01\n",
      " -7.56437706e+01 -1.05573284e+02  1.32461289e+01 -1.15762202e+02\n",
      "  7.77508100e+00  8.06092710e+00  1.37662406e+01 -1.11657296e+02\n",
      "  6.70320500e+00  3.21953800e-01  6.32355160e+00  5.89848420e+00\n",
      "  1.67411300e-01 -7.47390499e+01  1.46400869e+02 -1.21814566e+02\n",
      " -1.20227695e+02 -1.17300773e+02  1.48408582e+02 -1.23395299e+02\n",
      " -1.20310349e+02 -1.21688365e+02 -1.20121920e+02  9.83534221e+00\n",
      " -1.16623291e+02 -1.17755580e+02 -1.15945596e+02  1.20307428e+01\n",
      " -1.05074980e+02 -7.29109334e+01  1.47244179e+02 -1.14401964e+02\n",
      "  1.30822241e+01 -1.14357850e+02  1.40795940e+01  5.89316188e+00\n",
      "  6.93013840e+00 -1.21665528e+02 -1.15242014e+02 -1.19032634e+02\n",
      " -1.07812285e+02  7.55876180e+00  8.04999770e+00 -7.39698685e+01\n",
      "  1.31562336e+01 -1.18083355e+02  5.59479248e+00 -1.07779529e+02\n",
      "  6.42714570e+00 -7.08196141e+01  1.18486795e+01  1.38492755e+02\n",
      "  7.57449780e+00 -1.15981948e+02  1.20574859e+01  1.83797650e+00\n",
      "  3.58395666e+01 -1.11067446e+02  9.89420108e+00 -7.45891426e+01\n",
      " -8.53239218e+01  4.02970765e+01  1.27963165e+01  5.38422100e-01\n",
      " -1.20829534e+02  1.23279470e+01  6.49262730e+00 -1.05285009e+02\n",
      "  1.11730150e+01  8.40065704e+00  1.23670260e+01  1.05350048e+01\n",
      " -1.11025523e+02 -1.12850777e+02  1.31793966e+01  1.48305709e+02\n",
      " -7.26854695e+01  1.36155530e+01  6.65726752e+00  9.59814930e+00\n",
      "  1.02726212e+01 -7.26982845e+01 -7.09260678e+01 -1.17562991e+02\n",
      "  1.18023696e+01 -1.20119349e+02 -1.19904739e+02 -1.04811077e+02\n",
      "  1.58613507e-01  9.27658993e+00  6.68559520e+00  2.44128300e+01\n",
      "  6.71951450e+00 -1.21773786e+02 -9.04069177e+01 -1.09336873e+02\n",
      " -1.11591905e+02  1.44878940e+00  1.18740902e+01  1.22977414e+01\n",
      " -1.49080870e+02  1.16650360e+01  8.85497850e+00  7.97968990e+00\n",
      "  1.18028280e+01  8.21947217e+00  9.32019222e+00  1.16045762e+01\n",
      "  2.75037880e+00  7.62763124e+00  6.40646490e+00  4.56113110e-01\n",
      "  7.01484030e+00  4.44770286e+01 -7.29237112e+01 -1.25296391e+02\n",
      "  1.05086620e+01 -1.06657541e+02  9.17336410e+00  7.39894880e+00\n",
      "  2.36074324e+01  2.07151620e+00  9.62330412e+00  6.86859488e+00\n",
      " -7.14413006e+01  6.79913800e+00  2.42246252e+01  1.17729604e+01\n",
      " -1.18109209e+02  7.77492533e+00  1.26938826e+01  9.75787640e+00\n",
      "  5.85819660e+00  6.21290000e-03  2.08267410e+01  6.74139880e+00\n",
      " -1.09478668e+02  3.54502248e+01 -7.42304216e+01  8.06507328e+00\n",
      "  8.03493110e+00  7.58166089e+00 -1.22072605e+02 -1.20331067e+02\n",
      " -7.00820619e+01  1.37822617e+02  1.16645207e+01  7.89243248e+00\n",
      "  1.34498696e+01 -1.23201144e+02  8.08108020e+00  9.06738400e+00\n",
      "  1.01516560e+01  1.03924531e+01  8.70490548e+00  1.36440692e+01\n",
      "  6.51780667e+00  6.94245310e+00  1.83346200e+00  8.72353921e+00\n",
      " -5.28734450e-01  1.09862970e+01  1.40400344e+02  1.31936090e+01\n",
      "  1.95810166e+01  1.39089026e+02  1.29919443e+01  1.40997676e+02\n",
      "  4.02819350e+01  1.40875482e+02  1.55705666e+01  2.92220098e+01\n",
      "  8.48531570e+00  6.35057650e+00  2.32742293e+01  1.15371931e+01\n",
      "  1.90117088e+01  1.55782311e+01 -7.02915752e+01  6.56948533e+00\n",
      "  1.85962277e+01  5.49266868e+00  1.38179552e+02  1.38690323e+02\n",
      "  1.38464023e+02  1.40393300e+01  1.10761663e+01  1.15884581e+01\n",
      "  9.43671700e+00  2.85940000e+00  1.28904555e+01  4.29152472e+01\n",
      "  1.25088699e+01  1.28330743e+01  1.26232000e+01  2.46735633e+01\n",
      "  1.06306384e+01  1.39143318e+01  1.10055111e+01  8.27163423e+00\n",
      "  2.15498680e+00  6.56631910e+00  1.56067567e+01  7.10183910e+00\n",
      "  5.14155456e+01  1.38799554e+02  1.28681814e+02  1.10630167e+01\n",
      "  5.78021700e-01  1.28824816e+02 -7.02899972e+01  5.94074750e+00\n",
      "  4.02468210e+01  2.55479283e+01  1.42383188e+02 -3.29129500e-01\n",
      " -7.38353153e+01  1.29901090e+01  8.78731001e+00  1.13071256e+01\n",
      "  8.62266703e+00  1.42632640e+02  6.34090300e+00  1.35208066e+01\n",
      "  2.25896410e+01  1.30506460e+01  1.11441047e+01 -3.39993520e+00\n",
      "  1.05967875e+01 -1.21417071e+02  2.55561895e+01  1.41740378e+01\n",
      "  6.35105260e+00  1.56962980e+00  1.23360263e+01  8.07028223e+00\n",
      "  1.08709600e+01  1.35432979e+02  1.39847844e+01  1.10213744e+01\n",
      "  1.11998705e+01  9.60830690e+00  1.70116784e+01  1.41053214e+01\n",
      "  1.07417324e+01  1.15283837e+01  1.36932252e+01 -1.16122502e+02\n",
      "  1.38735244e+01  2.39600420e+01  9.93763610e+00 -1.21745667e+02\n",
      "  1.43162785e+01  1.49512205e+01  1.10895074e+01  1.36435950e+01\n",
      "  1.12886381e+01 -7.87571921e+01  1.30374226e+01  1.92468587e+01\n",
      "  1.39650643e+01  1.20416316e+01  1.03212662e+01  1.43303418e+01\n",
      "  1.23873443e+01  1.03423461e+01  1.43682392e+01  1.35929847e+01\n",
      "  7.82970700e+00  1.31316150e+00 -7.56621340e+01  9.98266550e+00\n",
      "  1.29547281e+01  8.15994770e+00  8.47416140e+00  8.83333000e+00\n",
      "  2.01050528e+01  2.00639550e+01  1.32380088e+01 -1.06449650e+02\n",
      "  1.17180449e+01  6.09826870e+00  1.40524733e+01  6.98333974e+00\n",
      "  1.11511781e+01  4.02664750e+01  1.55847569e+01  1.24297939e+01\n",
      "  6.46662780e+00  7.70710684e+01  1.37710285e+01  1.16790887e+01\n",
      "  1.01761213e+01 -1.21504535e+02  1.29380903e+01  7.65417650e+00\n",
      "  1.34187517e+01  1.28604393e+02  1.14515353e+01  1.17065417e+01\n",
      "  1.26401193e+01  9.97734514e+00  1.92674210e+01 -1.21089171e+02\n",
      "  9.78471180e+00  9.02801580e+00  6.87025656e+00  2.02791933e+01\n",
      "  1.69757177e+02  1.34818171e+01  8.51820100e+00  7.31905590e+00\n",
      "  5.81468640e+00 -7.46496253e+01  1.04087222e+01  1.59986823e+01\n",
      "  7.84216120e+00  2.10888330e+00  1.12286303e+01  1.09279980e+01\n",
      "  1.57899645e+01 -7.06259857e+01]\n"
     ]
    }
   ],
   "source": [
    "print(resorts[\"Longitude\"].unique())"
   ]
  },
  {
   "cell_type": "code",
   "execution_count": 24,
   "id": "e8bc615c",
   "metadata": {},
   "outputs": [
    {
     "name": "stdout",
     "output_type": "stream",
     "text": [
      "[ 60.9282437   60.5345261   47.05781     49.1055201   61.2303686\n",
      "  60.6837065  -39.67098835 -36.613844    47.6283728   47.6513062\n",
      "  49.5041747   50.8844684   50.7369988   47.674786    45.96300885\n",
      " -44.6323751   46.5766427   45.8597574   46.1550977   45.62647605\n",
      "  57.200996    35.7540215   40.4805325   45.7970821   38.8698201\n",
      "  34.641109    40.6460921   56.8522081   40.1211211  -45.0549597\n",
      "  46.4254637   45.7162875   46.5200926   46.2269942   47.3336293\n",
      "  46.8774734   47.392906    44.954538    47.4005419   51.2937094\n",
      "  42.54115005  46.74122595  46.9097225   46.772399    46.3511021\n",
      "  49.715991    46.879426   -44.9158907   45.0099949  -33.352964\n",
      " -30.0237148  -32.8364183  -41.16556     50.1171903   46.995462\n",
      "  60.2168823   45.4580331   45.50429855  44.5140024   45.78908\n",
      "  46.1925439   46.255039    42.8823131   42.8510114   45.0454525\n",
      "  45.4140984   45.3503871   45.092401    45.432169    45.590355\n",
      "  43.4629097   44.929277    45.3716864   45.2979109   44.9107381\n",
      "  46.5850987   46.2856827   45.9777193   39.87161425  42.6271621\n",
      "  66.1702656   67.7844055   42.804684    46.485132    42.5803334\n",
      "  41.8344086   42.6736893   39.1760986   61.103269    36.7402261\n",
      "  39.6440207   47.1880444   41.216317    39.6048786   56.68154175\n",
      "  46.9673961   47.212049    32.7558392   47.2494362   47.1064691\n",
      "  47.0530324   47.38650655  47.1672188   47.18265425  47.1943801\n",
      "  47.3438501   47.395203    46.9862824   47.1144954   46.9721035\n",
      "  47.4463585   46.9194554   47.45518755  47.3940415   47.51927245\n",
      "  47.2933062   47.3831879   47.03503335  47.194717    47.503178\n",
      "  47.5224141   47.022264    45.7874248   37.0957512   46.5383332\n",
      "  46.7699617   46.107342    45.8366951   46.7387791   42.7741349\n",
      "  42.6988865   45.0259571   46.4643909   46.4518335   46.3304899\n",
      "  46.84087305  46.7548885   46.1003545   46.5079945   44.9011374\n",
      "  46.3289335   47.606423    47.3225067   45.39139     45.322108\n",
      "  45.25492475  46.0298218   45.845128    45.2839783   39.3316513\n",
      "  42.5768944   46.849618    47.5343201   48.618833    45.1604887\n",
      "  47.24372605  42.3427392   51.4249668   44.2262702   48.8773577\n",
      "  41.9988889   46.56467025  43.67433     37.4781086   45.883562\n",
      "  45.044532    45.2768658   44.1869246   46.7487613   45.2602174\n",
      "  46.4450516   38.3481772   45.015082    36.4072377   46.58465625\n",
      "  51.08952535  44.249446    46.3895305   46.8442215   40.5807546\n",
      "  45.078339    42.816936    44.6972064   44.68440895  42.9087613\n",
      "  40.369273   -37.2694615   48.7767701   39.1785177   48.1815678\n",
      " -36.3961667   42.6955158   47.4234599   43.9792818   39.274701\n",
      "  46.842102    48.368467    33.741419    51.3065203   47.4234974\n",
      "  40.3977612   43.0428562  -36.878683    43.6829549   63.4010888\n",
      "  48.48108275  41.848167    45.1171487   44.0956228   45.338708\n",
      "  42.9932326   37.6307692   37.9374939   46.4927213   46.9463748\n",
      "  44.5417138   47.1110862   52.8005917   44.868928    37.5558754\n",
      "  45.9418675   44.4627415   47.27705405  36.716356    46.1776631\n",
      "  49.6850876   46.358117    42.7193597   33.9721286   45.6681984\n",
      "  47.314039    46.11588     41.0514432   43.6709708   47.3239636\n",
      "  42.5927404   47.6313713   46.731048    44.8279543   36.3930879\n",
      "  45.9149727   46.8228773   61.3561472   46.87101815  45.7032833\n",
      "  37.6927551   47.23837965 -36.5047751   44.4654236   47.0593103\n",
      "  45.162254    46.596957    46.811169    43.41769055  47.0877219\n",
      "  48.300619    46.36726075  37.5688237   49.3900432   39.983721\n",
      "  42.78020745  47.0828502   44.3578176   48.353783    45.1772565\n",
      "  45.3018189   38.5800713   45.1907531   40.6202462   42.55464075\n",
      "  46.4971763   47.2743375   60.96188655  47.061277    46.7041748\n",
      "  46.3648823   46.2623377   46.7468975   47.180949    46.5639036\n",
      "  45.0912003   46.236536    45.2285712   42.7807436   46.3438701\n",
      "  42.4765577   42.9589685   49.7528282   46.258603    40.2235948\n",
      "  47.291778    46.2970711   42.2668301   42.5043981   62.53517845\n",
      "  45.9479384   44.2576311   45.891508    67.5647092   45.6850704\n",
      "  50.9692628   46.41274665  47.0745464   47.119176    45.0274177\n",
      "  43.0835762   43.2689885   45.2275415   35.214632    38.5327397\n",
      "  42.1778662   46.6504815   46.8221657   44.1853305   37.3862661\n",
      "  39.3188801  -35.1455071   36.7035607   46.82666885  46.55744425\n",
      "  47.5149184   49.3976802   45.7699441   46.7700497   46.152697\n",
      "  46.4397574   46.6652022   47.1217604   46.2511455   45.0162171\n",
      "  42.5488878   47.0217081   42.78888865  47.421215    38.1679266\n",
      "  61.159705    48.966941    36.3937327   61.1792462   40.0123954\n",
      "  43.684855    42.7374243   48.7329198   40.0705295   47.0567184\n",
      "  46.7734907   42.6167377   46.3563067   49.7071204   46.5153389\n",
      " -33.3398691   46.15746735  43.7233441   47.0944134   36.89304245\n",
      "  36.8459419   36.91722415  47.0634486   47.4596073   46.42089735\n",
      "  46.979739    45.506646    61.2660478   39.5430157   47.6099906\n",
      "  61.8896064   47.009935    41.64619295  44.1314375   46.69476\n",
      "  46.1572963   46.77452445  42.3944498   45.66298915  50.7256448\n",
      "  46.3960939   36.0508147   36.9502508   37.645906    45.97985\n",
      "  42.768303    37.207294   -33.3355943   46.3026091   43.667196\n",
      "  45.3456607   43.3419744   42.9438107   44.36586225  47.223392\n",
      "  47.01175015  46.6655583   46.65201925  43.065765    45.2174088\n",
      "  46.4817326   38.547732    46.980483    49.3559425   56.7410308\n",
      "  46.5090706   47.424462    45.5967098   47.66612225  44.411775\n",
      "  42.1694417   62.5423638   47.86345025  46.926915    34.7525668\n",
      "  47.57728095  47.22172465  47.330727    47.102619    50.2975226\n",
      "  47.37659935  47.4131478   47.2075977   47.1489018   44.6700061\n",
      "  46.91448535  54.03173     47.4002902   45.303419    47.6279977\n",
      "  47.5208498   46.7952778   48.888874    45.94128935  39.3455111\n",
      "  48.9240769   48.8878953   46.2338617   47.6717401   47.5824873\n",
      "  47.0536954   47.57562605  47.4218727   47.2524874   47.4185564\n",
      "  46.251276    42.7762455   41.349713    47.4167682   50.4291364\n",
      "  46.4237017   46.9391136   50.2056      49.3946417   49.1191897\n",
      "  47.7147891   35.2100445   47.3302137   45.60283055  46.8226776\n",
      "  48.03400165  50.4399275   43.683048    47.60520455  47.476123\n",
      "  60.8420056   43.1388747   47.6607391   47.50747545  47.4425742\n",
      "  46.9281666   47.6495716   46.3728566   47.4041442   44.9293976\n",
      "  46.3473164   46.3390273   47.7293144   46.429214    49.2852625\n",
      "  47.7456352   61.5058146   58.6834043   44.7122166   49.1655267\n",
      " -43.9218555   46.3649708   51.188476    46.6524972   45.3422689\n",
      "  44.5164518   47.5087114   47.5235306   46.1960178   42.3950066\n",
      "  47.4513588   47.406897    47.5741948   47.2759    ]\n"
     ]
    }
   ],
   "source": [
    "print(resorts[\"Latitude\"].unique())"
   ]
  },
  {
   "cell_type": "code",
   "execution_count": 25,
   "id": "1b9865bc",
   "metadata": {},
   "outputs": [
    {
     "name": "stdout",
     "output_type": "stream",
     "text": [
      "[ 63.125  62.875  62.625  62.375  62.125  61.875  61.625  61.375  61.125\n",
      "  60.875  60.625  60.375  60.125  59.875  59.625  59.375  59.125  58.875\n",
      "  58.625  58.375  58.125  57.875  57.625  57.375  57.125  56.875  56.625\n",
      "  56.375  56.125  55.875  55.625  55.375  55.125  54.875  54.625  54.375\n",
      "  54.125  53.875  53.625  53.375  53.125  52.875  52.625  52.375  52.125\n",
      "  51.875  51.625  51.375  51.125  50.875  50.625  50.375  50.125  49.875\n",
      "  49.625  49.375  49.125  48.875  48.625  48.375  48.125  47.875  47.625\n",
      "  47.375  47.125  46.875  46.625  46.375  46.125  45.875  45.625  45.375\n",
      "  45.125  44.875  44.625  44.375  44.125  43.875  43.625  43.375  43.125\n",
      "  42.875  42.625  42.375  42.125  41.875  41.625  41.375  41.125  40.875\n",
      "  40.625  40.375  40.125  39.875  39.625  39.375  39.125  38.875  38.625\n",
      "  38.375  38.125  37.875  37.625  37.375  37.125  36.875  36.625  36.375\n",
      "  36.125  35.875  35.625  35.375  35.125  34.875  34.625  34.375  34.125\n",
      "  33.875  33.625  33.375  33.125  32.875  32.625  32.375  32.125  31.875\n",
      "  31.625  31.375  31.125  30.875  30.625  30.375  30.125  29.875  29.625\n",
      "  29.375  29.125  28.875  28.625  28.375  28.125  27.875  27.625  27.375\n",
      "  27.125  26.875  26.625  26.375  26.125  25.875  25.625  25.375  25.125\n",
      "  24.875  24.625  24.375  24.125  23.875  23.625  23.125  22.875  22.625\n",
      "  19.125  13.375  10.875   9.875   9.125   8.875   7.625   6.875   6.625\n",
      "   6.375   6.125   5.875   5.625   5.375   5.125   4.875   4.625   4.375\n",
      "   4.125   3.875   3.625   3.375   3.125   2.875   2.625   2.375   2.125\n",
      "   1.875   1.625   1.375   1.125   0.375   0.125  -0.125  -0.375  -0.625\n",
      "  -0.875  -1.375  -1.625  -1.875  -2.125  -2.375  -2.625  -2.875  -3.375\n",
      "  -3.875  -4.125  -4.375  -4.625  -6.125  -7.125  -7.625  -8.125  -8.875\n",
      "  -9.125  -9.375  -9.625  -9.875 -10.125 -10.375 -10.625 -10.875 -11.125\n",
      " -11.375 -11.875 -12.125 -12.625 -12.875 -13.125 -13.375 -13.625 -13.875\n",
      " -14.375 -14.625 -14.875 -15.125 -15.375 -15.625 -15.875 -16.125 -16.375\n",
      " -16.625 -16.875 -17.125 -17.375 -18.125 -18.375 -18.875 -19.125 -19.375\n",
      " -19.625 -19.875 -20.125 -20.375 -20.625 -21.375 -21.625 -21.875 -22.125\n",
      " -22.625 -22.875 -23.125 -23.375 -23.625 -23.875 -24.125 -24.375 -24.625\n",
      " -24.875 -25.125 -25.375 -25.625 -25.875 -26.125 -26.375 -26.625 -26.875\n",
      " -27.125 -27.375 -27.625 -27.875 -28.125 -28.375 -28.625 -28.875 -29.125\n",
      " -29.375 -29.625 -30.125 -30.375 -30.625 -30.875 -31.125 -31.375 -31.625\n",
      " -31.875 -32.125 -32.375 -32.625 -32.875 -33.125 -33.375 -33.625 -33.875\n",
      " -34.125 -34.375 -34.625 -34.875 -35.125 -35.375 -35.625 -35.875 -36.125\n",
      " -36.375 -36.625 -36.875 -37.125 -37.375 -37.625 -37.875 -38.125 -38.375\n",
      " -38.625 -39.125 -39.625 -40.125 -40.375 -40.625 -40.875 -41.125 -41.375\n",
      " -41.625 -41.875 -42.125 -42.375 -42.625 -42.875 -43.125 -43.375 -43.625\n",
      " -43.875 -44.125 -44.375 -44.625 -44.875 -45.125 -45.375 -45.625 -45.875\n",
      " -46.125 -46.375 -46.625 -46.875 -47.125 -47.375 -47.625 -47.875 -48.125\n",
      " -48.375 -48.625 -48.875 -49.125 -49.375 -49.625 -49.875 -50.125 -50.375\n",
      " -50.625 -50.875 -51.125 -51.625 -51.875 -52.125 -52.375 -52.875 -53.125\n",
      " -53.875 -54.125 -54.375 -54.625 -54.875 -55.375  70.375  70.125  69.875\n",
      "  69.625  69.375  69.125  68.875  68.625  68.375  68.125  67.875  67.625\n",
      "  67.375  67.125  66.875  66.625  66.375  66.125  65.875  65.625  65.375\n",
      "  65.125  64.875  64.625  64.375  64.125  63.875  63.625  63.375  22.125\n",
      "  19.625  10.125   8.625   8.375   7.875   7.375   7.125   0.625  -3.125\n",
      "  -5.375  -5.875  -7.875  -8.625 -14.125 -29.875 -38.875 -39.375 -39.875\n",
      " -51.375 -52.625 -55.125  81.625  81.375  81.125  80.875  80.625  80.375\n",
      "  80.125  79.875  79.625  79.375  79.125  78.875  78.625  78.375  78.125\n",
      "  77.875  77.625  77.375  77.125  76.875  76.625  76.375  76.125  75.875\n",
      "  75.625  75.375  75.125  74.875  74.625  74.375  74.125  73.875  73.625\n",
      "  73.375  73.125  72.875  72.625  72.375  72.125  71.875  71.625  71.375\n",
      "  71.125  70.875  70.625  23.375  -1.125 -11.625 -53.375 -53.625  83.375\n",
      "  83.125  82.875  82.625  82.375  82.125  81.875  10.375   8.125   0.875\n",
      "  -3.625  -4.875  -5.625  -6.375  -8.375 -12.375  22.375 -20.875 -22.375\n",
      " -17.625 -21.125  -6.875  -5.125  -6.625  -7.375 -17.875 -18.625]\n"
     ]
    }
   ],
   "source": [
    "print(snow[\"Latitude\"].unique())"
   ]
  },
  {
   "cell_type": "code",
   "execution_count": 27,
   "id": "347dd4af",
   "metadata": {},
   "outputs": [],
   "source": [
    "resorts[\"Latitude\"]=round(resorts[\"Latitude\"],3)"
   ]
  },
  {
   "cell_type": "code",
   "execution_count": 28,
   "id": "6d28f6fb",
   "metadata": {},
   "outputs": [],
   "source": [
    "resorts[\"Longitude\"]=round(resorts[\"Longitude\"],3)"
   ]
  },
  {
   "cell_type": "code",
   "execution_count": 32,
   "id": "142aa60c",
   "metadata": {},
   "outputs": [],
   "source": [
    "resorts[\"coordinates\"] = resorts[\"Longitude\"].astype(str) + \", \" + resorts[\"Latitude\"].astype(str)"
   ]
  },
  {
   "cell_type": "code",
   "execution_count": 36,
   "id": "74b3688f",
   "metadata": {},
   "outputs": [],
   "source": [
    "snow[\"coordinates\"] = snow[\"Longitude\"].astype(str) + \", \" + snow[\"Latitude\"].astype(str)"
   ]
  },
  {
   "cell_type": "code",
   "execution_count": 38,
   "id": "f40ff2a1",
   "metadata": {},
   "outputs": [
    {
     "data": {
      "text/plain": [
       "array(['2022-12-01', '2022-11-01', '2022-10-01', '2022-09-01',\n",
       "       '2022-08-01', '2022-07-01', '2022-06-01', '2022-05-01',\n",
       "       '2022-04-01', '2022-03-01', '2022-02-01', '2022-01-01'],\n",
       "      dtype=object)"
      ]
     },
     "execution_count": 38,
     "metadata": {},
     "output_type": "execute_result"
    }
   ],
   "source": [
    "snow[\"Month\"].unique()"
   ]
  },
  {
   "cell_type": "code",
   "execution_count": 39,
   "id": "08020d75",
   "metadata": {},
   "outputs": [
    {
     "data": {
      "text/plain": [
       "12"
      ]
     },
     "execution_count": 39,
     "metadata": {},
     "output_type": "execute_result"
    }
   ],
   "source": [
    "len(snow[\"Month\"].unique())"
   ]
  },
  {
   "cell_type": "markdown",
   "id": "0b0255f6",
   "metadata": {},
   "source": [
    "> Create data tables for each month or make the months into columns on the data table"
   ]
  },
  {
   "cell_type": "code",
   "execution_count": null,
   "id": "21f5e326",
   "metadata": {},
   "outputs": [],
   "source": []
  },
  {
   "cell_type": "code",
   "execution_count": 26,
   "id": "09d2d0b7",
   "metadata": {},
   "outputs": [
    {
     "ename": "NameError",
     "evalue": "name 'prin' is not defined",
     "output_type": "error",
     "traceback": [
      "\u001b[1;31m---------------------------------------------------------------------------\u001b[0m",
      "\u001b[1;31mNameError\u001b[0m                                 Traceback (most recent call last)",
      "\u001b[1;32m~\\AppData\\Local\\Temp\\ipykernel_13120\\2538804868.py\u001b[0m in \u001b[0;36m<module>\u001b[1;34m\u001b[0m\n\u001b[1;32m----> 1\u001b[1;33m \u001b[0mprin\u001b[0m\u001b[1;33m\u001b[0m\u001b[1;33m\u001b[0m\u001b[0m\n\u001b[0m",
      "\u001b[1;31mNameError\u001b[0m: name 'prin' is not defined"
     ]
    }
   ],
   "source": [
    "prin"
   ]
  },
  {
   "cell_type": "code",
   "execution_count": null,
   "id": "a683b9de",
   "metadata": {},
   "outputs": [],
   "source": [
    "sqldf(\"select resorts.*, snow.* from snow left join resorts on (resorts.Longitude=snow.Longitude) where snow.Longitude is not null and resorts.Longitude is not null\")"
   ]
  },
  {
   "cell_type": "code",
   "execution_count": null,
   "id": "2f7faa51",
   "metadata": {},
   "outputs": [],
   "source": [
    "sqldf(\"select resorts.*, snow.* from snow left join resorts on (resorts.Longitude=snow.Longitude)\")"
   ]
  },
  {
   "cell_type": "markdown",
   "id": "ffd0fd52",
   "metadata": {},
   "source": [
    "## Preparing data for merging"
   ]
  }
 ],
 "metadata": {
  "kernelspec": {
   "display_name": "Python 3 (ipykernel)",
   "language": "python",
   "name": "python3"
  },
  "language_info": {
   "codemirror_mode": {
    "name": "ipython",
    "version": 3
   },
   "file_extension": ".py",
   "mimetype": "text/x-python",
   "name": "python",
   "nbconvert_exporter": "python",
   "pygments_lexer": "ipython3",
   "version": "3.9.13"
  }
 },
 "nbformat": 4,
 "nbformat_minor": 5
}
