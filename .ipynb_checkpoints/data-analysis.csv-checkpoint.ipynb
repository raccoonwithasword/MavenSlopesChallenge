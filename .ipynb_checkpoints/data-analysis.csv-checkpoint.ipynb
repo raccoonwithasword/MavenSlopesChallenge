{
 "cells": [
  {
   "cell_type": "markdown",
   "id": "e8a2ec57",
   "metadata": {},
   "source": [
    "# Maven Slopes Challenge"
   ]
  },
  {
   "cell_type": "markdown",
   "id": "ca248a9f",
   "metadata": {},
   "source": [
    "## Importing libraries"
   ]
  },
  {
   "cell_type": "code",
   "execution_count": 1,
   "id": "08428726",
   "metadata": {},
   "outputs": [],
   "source": [
    "import pandas as pd"
   ]
  },
  {
   "cell_type": "markdown",
   "id": "427cb269",
   "metadata": {},
   "source": [
    "## Importing datasets"
   ]
  },
  {
   "cell_type": "code",
   "execution_count": 12,
   "id": "b64a2747",
   "metadata": {},
   "outputs": [
    {
     "name": "stdout",
     "output_type": "stream",
     "text": [
      "<class 'pandas.core.frame.DataFrame'>\n",
      "RangeIndex: 820522 entries, 0 to 820521\n",
      "Data columns (total 4 columns):\n",
      " #   Column     Non-Null Count   Dtype  \n",
      "---  ------     --------------   -----  \n",
      " 0   Month      820522 non-null  object \n",
      " 1   Latitude   820522 non-null  float64\n",
      " 2   Longitude  820522 non-null  float64\n",
      " 3   Snow       820522 non-null  float64\n",
      "dtypes: float64(3), object(1)\n",
      "memory usage: 25.0+ MB\n"
     ]
    }
   ],
   "source": [
    "data_dictionary = pd.read_csv(r\"./Ski-Resorts/data_dictionary.csv\", encoding='cp1252')\n",
    "resorts = pd.read_csv(r\".\\Ski-Resorts\\resorts.csv\", encoding='cp1252')\n",
    "snow = pd.read_csv(r\"./Ski-Resorts/snow.csv\")"
   ]
  }
 ],
 "metadata": {
  "kernelspec": {
   "display_name": "Python 3 (ipykernel)",
   "language": "python",
   "name": "python3"
  },
  "language_info": {
   "codemirror_mode": {
    "name": "ipython",
    "version": 3
   },
   "file_extension": ".py",
   "mimetype": "text/x-python",
   "name": "python",
   "nbconvert_exporter": "python",
   "pygments_lexer": "ipython3",
   "version": "3.9.13"
  }
 },
 "nbformat": 4,
 "nbformat_minor": 5
}
