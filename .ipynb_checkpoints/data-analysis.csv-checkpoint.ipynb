{
 "cells": [
  {
   "cell_type": "markdown",
   "id": "f9b40805",
   "metadata": {},
   "source": [
    "# Maven Slopes Challenge"
   ]
  },
  {
   "cell_type": "markdown",
   "id": "873cf780",
   "metadata": {},
   "source": [
    "## Importing libraries"
   ]
  },
  {
   "cell_type": "code",
   "execution_count": 1,
   "id": "d4e2721e",
   "metadata": {},
   "outputs": [],
   "source": [
    "import pandas as pd\n",
    "import pandasql as ps\n",
    "from pandasql import sqldf"
   ]
  },
  {
   "cell_type": "markdown",
   "id": "7ae73cec",
   "metadata": {},
   "source": [
    "## Importing datasets"
   ]
  },
  {
   "cell_type": "code",
   "execution_count": 2,
   "id": "ce7b27e3",
   "metadata": {},
   "outputs": [],
   "source": [
    "data_dictionary = pd.read_csv(r\"./Ski-Resorts/data_dictionary.csv\", encoding='cp1252')\n",
    "resorts = pd.read_csv(r\".\\Ski-Resorts\\resorts.csv\", encoding='cp1252')\n",
    "snow = pd.read_csv(r\"./Ski-Resorts/snow.csv\")"
   ]
  },
  {
   "cell_type": "markdown",
   "id": "1355e6a6",
   "metadata": {},
   "source": [
    "## Exploring datasets"
   ]
  },
  {
   "cell_type": "markdown",
   "id": "6f55180e",
   "metadata": {},
   "source": [
    "### Data Dictionary"
   ]
  },
  {
   "cell_type": "code",
   "execution_count": 3,
   "id": "514cccc0",
   "metadata": {},
   "outputs": [
    {
     "name": "stdout",
     "output_type": "stream",
     "text": [
      "<class 'pandas.core.frame.DataFrame'>\n",
      "RangeIndex: 29 entries, 0 to 28\n",
      "Data columns (total 3 columns):\n",
      " #   Column       Non-Null Count  Dtype \n",
      "---  ------       --------------  ----- \n",
      " 0   Table        29 non-null     object\n",
      " 1   Field        29 non-null     object\n",
      " 2   Description  29 non-null     object\n",
      "dtypes: object(3)\n",
      "memory usage: 824.0+ bytes\n"
     ]
    }
   ],
   "source": [
    "data_dictionary.info()"
   ]
  },
  {
   "cell_type": "code",
   "execution_count": 4,
   "id": "20dfe290",
   "metadata": {},
   "outputs": [
    {
     "data": {
      "text/plain": [
       "Table          0\n",
       "Field          0\n",
       "Description    0\n",
       "dtype: int64"
      ]
     },
     "execution_count": 4,
     "metadata": {},
     "output_type": "execute_result"
    }
   ],
   "source": [
    "data_dictionary.isna().sum()"
   ]
  },
  {
   "cell_type": "code",
   "execution_count": 5,
   "id": "9f9001f9",
   "metadata": {},
   "outputs": [
    {
     "data": {
      "text/plain": [
       "0"
      ]
     },
     "execution_count": 5,
     "metadata": {},
     "output_type": "execute_result"
    }
   ],
   "source": [
    "data_dictionary.duplicated().sum()"
   ]
  },
  {
   "cell_type": "code",
   "execution_count": 6,
   "id": "e9bc842a",
   "metadata": {},
   "outputs": [
    {
     "data": {
      "text/plain": [
       "array([ 0,  1,  2,  3,  4,  5,  6,  7,  8,  9, 10, 11, 12, 13, 14, 15, 16,\n",
       "       17, 18, 19, 20, 21, 22, 23, 24, 25, 26, 27, 28], dtype=int64)"
      ]
     },
     "execution_count": 6,
     "metadata": {},
     "output_type": "execute_result"
    }
   ],
   "source": [
    "data_dictionary.index.values"
   ]
  },
  {
   "cell_type": "code",
   "execution_count": 7,
   "id": "8891a33c",
   "metadata": {
    "scrolled": true
   },
   "outputs": [
    {
     "name": "stdout",
     "output_type": "stream",
     "text": [
      "<class 'pandas.core.series.Series'>\n",
      "RangeIndex: 29 entries, 0 to 28\n",
      "Series name: Table\n",
      "Non-Null Count  Dtype \n",
      "--------------  ----- \n",
      "29 non-null     object\n",
      "dtypes: object(1)\n",
      "memory usage: 360.0+ bytes\n"
     ]
    }
   ],
   "source": [
    "data_dictionary[\"Table\"].info()"
   ]
  },
  {
   "cell_type": "code",
   "execution_count": 18,
   "id": "9a52022f",
   "metadata": {},
   "outputs": [],
   "source": [
    "data_dictionary.rename(columns={\"Table\":\"table_name\"},inplace=True)"
   ]
  },
  {
   "cell_type": "code",
   "execution_count": 19,
   "id": "5fd5f83b",
   "metadata": {},
   "outputs": [
    {
     "data": {
      "text/html": [
       "<div>\n",
       "<style scoped>\n",
       "    .dataframe tbody tr th:only-of-type {\n",
       "        vertical-align: middle;\n",
       "    }\n",
       "\n",
       "    .dataframe tbody tr th {\n",
       "        vertical-align: top;\n",
       "    }\n",
       "\n",
       "    .dataframe thead th {\n",
       "        text-align: right;\n",
       "    }\n",
       "</style>\n",
       "<table border=\"1\" class=\"dataframe\">\n",
       "  <thead>\n",
       "    <tr style=\"text-align: right;\">\n",
       "      <th></th>\n",
       "      <th>table_name</th>\n",
       "      <th>Description</th>\n",
       "    </tr>\n",
       "  </thead>\n",
       "  <tbody>\n",
       "    <tr>\n",
       "      <th>0</th>\n",
       "      <td>Resorts</td>\n",
       "      <td>Unique identifier for each resort</td>\n",
       "    </tr>\n",
       "    <tr>\n",
       "      <th>1</th>\n",
       "      <td>Resorts</td>\n",
       "      <td>Name of the ski &amp; snowboard resort</td>\n",
       "    </tr>\n",
       "    <tr>\n",
       "      <th>2</th>\n",
       "      <td>Resorts</td>\n",
       "      <td>Latitude for the resort's location</td>\n",
       "    </tr>\n",
       "    <tr>\n",
       "      <th>3</th>\n",
       "      <td>Resorts</td>\n",
       "      <td>Longitude for the resort's location</td>\n",
       "    </tr>\n",
       "    <tr>\n",
       "      <th>4</th>\n",
       "      <td>Resorts</td>\n",
       "      <td>Country in which the resort is located</td>\n",
       "    </tr>\n",
       "    <tr>\n",
       "      <th>5</th>\n",
       "      <td>Resorts</td>\n",
       "      <td>Continent in which the resort is located</td>\n",
       "    </tr>\n",
       "    <tr>\n",
       "      <th>6</th>\n",
       "      <td>Resorts</td>\n",
       "      <td>Ski pass cost for 1 adult for 1 day in the mai...</td>\n",
       "    </tr>\n",
       "    <tr>\n",
       "      <th>7</th>\n",
       "      <td>Resorts</td>\n",
       "      <td>Normal start and end of the ski season at the ...</td>\n",
       "    </tr>\n",
       "    <tr>\n",
       "      <th>8</th>\n",
       "      <td>Resorts</td>\n",
       "      <td>Highest mountain point at the resort (meters)</td>\n",
       "    </tr>\n",
       "    <tr>\n",
       "      <th>9</th>\n",
       "      <td>Resorts</td>\n",
       "      <td>Lowest possible point to ski at the resort (me...</td>\n",
       "    </tr>\n",
       "    <tr>\n",
       "      <th>10</th>\n",
       "      <td>Resorts</td>\n",
       "      <td>Total length of \"children\", \"blue\", and \"green...</td>\n",
       "    </tr>\n",
       "    <tr>\n",
       "      <th>11</th>\n",
       "      <td>Resorts</td>\n",
       "      <td>Total length of \"red\" slopes at the resort (km)</td>\n",
       "    </tr>\n",
       "    <tr>\n",
       "      <th>12</th>\n",
       "      <td>Resorts</td>\n",
       "      <td>Total length of \"black\", \"advanced\", and \"expe...</td>\n",
       "    </tr>\n",
       "    <tr>\n",
       "      <th>13</th>\n",
       "      <td>Resorts</td>\n",
       "      <td>Total length of slopes at the resort (km)</td>\n",
       "    </tr>\n",
       "    <tr>\n",
       "      <th>14</th>\n",
       "      <td>Resorts</td>\n",
       "      <td>Longest possible continuous run at the ski res...</td>\n",
       "    </tr>\n",
       "    <tr>\n",
       "      <th>15</th>\n",
       "      <td>Resorts</td>\n",
       "      <td>Total amount of snow cannons at the resort</td>\n",
       "    </tr>\n",
       "    <tr>\n",
       "      <th>16</th>\n",
       "      <td>Resorts</td>\n",
       "      <td>Total number of surface lifts, including T-bar...</td>\n",
       "    </tr>\n",
       "    <tr>\n",
       "      <th>17</th>\n",
       "      <td>Resorts</td>\n",
       "      <td>Total number of chair lifts</td>\n",
       "    </tr>\n",
       "    <tr>\n",
       "      <th>18</th>\n",
       "      <td>Resorts</td>\n",
       "      <td>Total number of gondola lifts, including Gondo...</td>\n",
       "    </tr>\n",
       "    <tr>\n",
       "      <th>19</th>\n",
       "      <td>Resorts</td>\n",
       "      <td>Total number of lifts</td>\n",
       "    </tr>\n",
       "    <tr>\n",
       "      <th>20</th>\n",
       "      <td>Resorts</td>\n",
       "      <td>Number of passengers the resort's lift system ...</td>\n",
       "    </tr>\n",
       "    <tr>\n",
       "      <th>21</th>\n",
       "      <td>Resorts</td>\n",
       "      <td>Is the ski resort child friendly?</td>\n",
       "    </tr>\n",
       "    <tr>\n",
       "      <th>22</th>\n",
       "      <td>Resorts</td>\n",
       "      <td>Does the resort have one or more snowparks?</td>\n",
       "    </tr>\n",
       "    <tr>\n",
       "      <th>23</th>\n",
       "      <td>Resorts</td>\n",
       "      <td>Does the resort offer skiing on illuminated sl...</td>\n",
       "    </tr>\n",
       "    <tr>\n",
       "      <th>24</th>\n",
       "      <td>Resorts</td>\n",
       "      <td>Does the resort offer skiing during the summer?</td>\n",
       "    </tr>\n",
       "    <tr>\n",
       "      <th>25</th>\n",
       "      <td>Snow</td>\n",
       "      <td>Date to represent the month of the year (not j...</td>\n",
       "    </tr>\n",
       "    <tr>\n",
       "      <th>26</th>\n",
       "      <td>Snow</td>\n",
       "      <td>Latitude at the center of the region (every \"r...</td>\n",
       "    </tr>\n",
       "    <tr>\n",
       "      <th>27</th>\n",
       "      <td>Snow</td>\n",
       "      <td>Longitude at the center of the region (every \"...</td>\n",
       "    </tr>\n",
       "    <tr>\n",
       "      <th>28</th>\n",
       "      <td>Snow</td>\n",
       "      <td>Percent of time the region was covered in snow...</td>\n",
       "    </tr>\n",
       "  </tbody>\n",
       "</table>\n",
       "</div>"
      ],
      "text/plain": [
       "   table_name                                        Description\n",
       "0     Resorts                  Unique identifier for each resort\n",
       "1     Resorts                 Name of the ski & snowboard resort\n",
       "2     Resorts                 Latitude for the resort's location\n",
       "3     Resorts                Longitude for the resort's location\n",
       "4     Resorts             Country in which the resort is located\n",
       "5     Resorts           Continent in which the resort is located\n",
       "6     Resorts  Ski pass cost for 1 adult for 1 day in the mai...\n",
       "7     Resorts  Normal start and end of the ski season at the ...\n",
       "8     Resorts      Highest mountain point at the resort (meters)\n",
       "9     Resorts  Lowest possible point to ski at the resort (me...\n",
       "10    Resorts  Total length of \"children\", \"blue\", and \"green...\n",
       "11    Resorts    Total length of \"red\" slopes at the resort (km)\n",
       "12    Resorts  Total length of \"black\", \"advanced\", and \"expe...\n",
       "13    Resorts          Total length of slopes at the resort (km)\n",
       "14    Resorts  Longest possible continuous run at the ski res...\n",
       "15    Resorts         Total amount of snow cannons at the resort\n",
       "16    Resorts  Total number of surface lifts, including T-bar...\n",
       "17    Resorts                        Total number of chair lifts\n",
       "18    Resorts  Total number of gondola lifts, including Gondo...\n",
       "19    Resorts                              Total number of lifts\n",
       "20    Resorts  Number of passengers the resort's lift system ...\n",
       "21    Resorts                  Is the ski resort child friendly?\n",
       "22    Resorts        Does the resort have one or more snowparks?\n",
       "23    Resorts  Does the resort offer skiing on illuminated sl...\n",
       "24    Resorts    Does the resort offer skiing during the summer?\n",
       "25       Snow  Date to represent the month of the year (not j...\n",
       "26       Snow  Latitude at the center of the region (every \"r...\n",
       "27       Snow  Longitude at the center of the region (every \"...\n",
       "28       Snow  Percent of time the region was covered in snow..."
      ]
     },
     "execution_count": 19,
     "metadata": {},
     "output_type": "execute_result"
    }
   ],
   "source": [
    "sqldf(\"select table_name, Description from data_dictionary\")"
   ]
  },
  {
   "cell_type": "markdown",
   "id": "c5b5f445",
   "metadata": {},
   "source": [
    "### Resorts"
   ]
  },
  {
   "cell_type": "code",
   "execution_count": 9,
   "id": "57dc9501",
   "metadata": {},
   "outputs": [
    {
     "name": "stdout",
     "output_type": "stream",
     "text": [
      "<class 'pandas.core.frame.DataFrame'>\n",
      "RangeIndex: 499 entries, 0 to 498\n",
      "Data columns (total 25 columns):\n",
      " #   Column               Non-Null Count  Dtype  \n",
      "---  ------               --------------  -----  \n",
      " 0   ID                   499 non-null    int64  \n",
      " 1   Resort               499 non-null    object \n",
      " 2   Latitude             499 non-null    float64\n",
      " 3   Longitude            499 non-null    float64\n",
      " 4   Country              499 non-null    object \n",
      " 5   Continent            499 non-null    object \n",
      " 6   Price                499 non-null    int64  \n",
      " 7   Season               499 non-null    object \n",
      " 8   Highest point        499 non-null    int64  \n",
      " 9   Lowest point         499 non-null    int64  \n",
      " 10  Beginner slopes      499 non-null    int64  \n",
      " 11  Intermediate slopes  499 non-null    int64  \n",
      " 12  Difficult slopes     499 non-null    int64  \n",
      " 13  Total slopes         499 non-null    int64  \n",
      " 14  Longest run          499 non-null    int64  \n",
      " 15  Snow cannons         499 non-null    int64  \n",
      " 16  Surface lifts        499 non-null    int64  \n",
      " 17  Chair lifts          499 non-null    int64  \n",
      " 18  Gondola lifts        499 non-null    int64  \n",
      " 19  Total lifts          499 non-null    int64  \n",
      " 20  Lift capacity        499 non-null    int64  \n",
      " 21  Child friendly       499 non-null    object \n",
      " 22  Snowparks            499 non-null    object \n",
      " 23  Nightskiing          499 non-null    object \n",
      " 24  Summer skiing        499 non-null    object \n",
      "dtypes: float64(2), int64(15), object(8)\n",
      "memory usage: 97.6+ KB\n"
     ]
    }
   ],
   "source": [
    "resorts.info()"
   ]
  },
  {
   "cell_type": "code",
   "execution_count": 13,
   "id": "f3bbef20",
   "metadata": {},
   "outputs": [
    {
     "data": {
      "text/html": [
       "<div>\n",
       "<style scoped>\n",
       "    .dataframe tbody tr th:only-of-type {\n",
       "        vertical-align: middle;\n",
       "    }\n",
       "\n",
       "    .dataframe tbody tr th {\n",
       "        vertical-align: top;\n",
       "    }\n",
       "\n",
       "    .dataframe thead th {\n",
       "        text-align: right;\n",
       "    }\n",
       "</style>\n",
       "<table border=\"1\" class=\"dataframe\">\n",
       "  <thead>\n",
       "    <tr style=\"text-align: right;\">\n",
       "      <th></th>\n",
       "      <th>Longitude</th>\n",
       "    </tr>\n",
       "  </thead>\n",
       "  <tbody>\n",
       "    <tr>\n",
       "      <th>0</th>\n",
       "      <td>8.383487</td>\n",
       "    </tr>\n",
       "    <tr>\n",
       "      <th>1</th>\n",
       "      <td>8.206372</td>\n",
       "    </tr>\n",
       "    <tr>\n",
       "      <th>2</th>\n",
       "      <td>9.828167</td>\n",
       "    </tr>\n",
       "    <tr>\n",
       "      <th>3</th>\n",
       "      <td>-117.846280</td>\n",
       "    </tr>\n",
       "    <tr>\n",
       "      <th>4</th>\n",
       "      <td>10.529014</td>\n",
       "    </tr>\n",
       "    <tr>\n",
       "      <th>...</th>\n",
       "      <td>...</td>\n",
       "    </tr>\n",
       "    <tr>\n",
       "      <th>494</th>\n",
       "      <td>2.108883</td>\n",
       "    </tr>\n",
       "    <tr>\n",
       "      <th>495</th>\n",
       "      <td>11.228630</td>\n",
       "    </tr>\n",
       "    <tr>\n",
       "      <th>496</th>\n",
       "      <td>10.927998</td>\n",
       "    </tr>\n",
       "    <tr>\n",
       "      <th>497</th>\n",
       "      <td>15.789964</td>\n",
       "    </tr>\n",
       "    <tr>\n",
       "      <th>498</th>\n",
       "      <td>-70.625986</td>\n",
       "    </tr>\n",
       "  </tbody>\n",
       "</table>\n",
       "<p>499 rows × 1 columns</p>\n",
       "</div>"
      ],
      "text/plain": [
       "      Longitude\n",
       "0      8.383487\n",
       "1      8.206372\n",
       "2      9.828167\n",
       "3   -117.846280\n",
       "4     10.529014\n",
       "..          ...\n",
       "494    2.108883\n",
       "495   11.228630\n",
       "496   10.927998\n",
       "497   15.789964\n",
       "498  -70.625986\n",
       "\n",
       "[499 rows x 1 columns]"
      ]
     },
     "execution_count": 13,
     "metadata": {},
     "output_type": "execute_result"
    }
   ],
   "source": [
    "sqldf(\"select longitude from resorts\")"
   ]
  },
  {
   "cell_type": "code",
   "execution_count": null,
   "id": "76bfcc51",
   "metadata": {},
   "outputs": [],
   "source": [
    "resorts[\"Child friendly\"].unique()"
   ]
  },
  {
   "cell_type": "code",
   "execution_count": null,
   "id": "acef2b39",
   "metadata": {},
   "outputs": [],
   "source": [
    "resorts.isna().sum()"
   ]
  },
  {
   "cell_type": "code",
   "execution_count": null,
   "id": "e8faecd2",
   "metadata": {},
   "outputs": [],
   "source": [
    "resorts.duplicated().sum()"
   ]
  },
  {
   "cell_type": "markdown",
   "id": "115221ca",
   "metadata": {},
   "source": [
    "### Snow"
   ]
  },
  {
   "cell_type": "code",
   "execution_count": null,
   "id": "2af4a411",
   "metadata": {},
   "outputs": [],
   "source": [
    "snow.info()"
   ]
  },
  {
   "cell_type": "code",
   "execution_count": null,
   "id": "fa62fe04",
   "metadata": {},
   "outputs": [],
   "source": [
    "snow.isna().sum()"
   ]
  },
  {
   "cell_type": "code",
   "execution_count": null,
   "id": "4cbe5b97",
   "metadata": {
    "scrolled": true
   },
   "outputs": [],
   "source": [
    "snow.duplicated().sum()"
   ]
  },
  {
   "cell_type": "markdown",
   "id": "5b5e4bdf",
   "metadata": {},
   "source": [
    "## Checking similarities"
   ]
  },
  {
   "cell_type": "code",
   "execution_count": null,
   "id": "7d702e9b",
   "metadata": {},
   "outputs": [],
   "source": [
    "len(resorts[\"Longitude\"])"
   ]
  },
  {
   "cell_type": "code",
   "execution_count": null,
   "id": "cf86c05c",
   "metadata": {},
   "outputs": [],
   "source": [
    "len(resorts[\"Longitude\"].unique())"
   ]
  },
  {
   "cell_type": "code",
   "execution_count": null,
   "id": "f606e02f",
   "metadata": {},
   "outputs": [],
   "source": [
    "len(snow[\"Longitude\"])"
   ]
  },
  {
   "cell_type": "code",
   "execution_count": null,
   "id": "afc3e291",
   "metadata": {},
   "outputs": [],
   "source": [
    "len(snow[\"Longitude\"].unique())"
   ]
  },
  {
   "cell_type": "markdown",
   "id": "ffd0fd52",
   "metadata": {},
   "source": [
    "## Preparing data for merging"
   ]
  }
 ],
 "metadata": {
  "kernelspec": {
   "display_name": "Python 3 (ipykernel)",
   "language": "python",
   "name": "python3"
  },
  "language_info": {
   "codemirror_mode": {
    "name": "ipython",
    "version": 3
   },
   "file_extension": ".py",
   "mimetype": "text/x-python",
   "name": "python",
   "nbconvert_exporter": "python",
   "pygments_lexer": "ipython3",
   "version": "3.9.13"
  }
 },
 "nbformat": 4,
 "nbformat_minor": 5
}
