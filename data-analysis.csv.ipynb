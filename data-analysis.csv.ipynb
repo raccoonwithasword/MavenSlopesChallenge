{
 "cells": [
  {
   "cell_type": "markdown",
   "id": "cb9487e1",
   "metadata": {},
   "source": [
    "# Maven Slopes Challenge"
   ]
  },
  {
   "cell_type": "markdown",
   "id": "8aa7162e",
   "metadata": {},
   "source": [
    "## Importing libraries"
   ]
  },
  {
   "cell_type": "code",
   "execution_count": 18,
   "id": "1b9f18cc",
   "metadata": {},
   "outputs": [],
   "source": [
    "import pandas as pd\n",
    "import pandasql as ps\n",
    "from pandasql import sqldf"
   ]
  },
  {
   "cell_type": "markdown",
   "id": "ea68d5d3",
   "metadata": {},
   "source": [
    "## Importing datasets"
   ]
  },
  {
   "cell_type": "code",
   "execution_count": 2,
   "id": "df1c6098",
   "metadata": {},
   "outputs": [],
   "source": [
    "data_dictionary = pd.read_csv(r\"./Ski-Resorts/data_dictionary.csv\", encoding='cp1252')\n",
    "resorts = pd.read_csv(r\".\\Ski-Resorts\\resorts.csv\", encoding='cp1252')\n",
    "snow = pd.read_csv(r\"./Ski-Resorts/snow.csv\")"
   ]
  },
  {
   "cell_type": "markdown",
   "id": "4ee85f53",
   "metadata": {},
   "source": [
    "## Exploring datasets"
   ]
  },
  {
   "cell_type": "code",
   "execution_count": 12,
   "id": "ab0174e7",
   "metadata": {},
   "outputs": [
    {
     "name": "stdout",
     "output_type": "stream",
     "text": [
      "<class 'pandas.core.frame.DataFrame'>\n",
      "RangeIndex: 29 entries, 0 to 28\n",
      "Data columns (total 3 columns):\n",
      " #   Column       Non-Null Count  Dtype \n",
      "---  ------       --------------  ----- \n",
      " 0   Table        29 non-null     object\n",
      " 1   Field        29 non-null     object\n",
      " 2   Description  29 non-null     object\n",
      "dtypes: object(3)\n",
      "memory usage: 824.0+ bytes\n"
     ]
    }
   ],
   "source": [
    "data_dictionary.info()"
   ]
  },
  {
   "cell_type": "code",
   "execution_count": 6,
   "id": "52045e37",
   "metadata": {},
   "outputs": [
    {
     "data": {
      "text/plain": [
       "Table          0\n",
       "Field          0\n",
       "Description    0\n",
       "dtype: int64"
      ]
     },
     "execution_count": 6,
     "metadata": {},
     "output_type": "execute_result"
    }
   ],
   "source": [
    "data_dictionary.isna().sum()"
   ]
  },
  {
   "cell_type": "code",
   "execution_count": 8,
   "id": "a7c2db2e",
   "metadata": {},
   "outputs": [
    {
     "data": {
      "text/plain": [
       "0"
      ]
     },
     "execution_count": 8,
     "metadata": {},
     "output_type": "execute_result"
    }
   ],
   "source": [
    "data_dictionary.duplicated().sum()"
   ]
  },
  {
   "cell_type": "code",
   "execution_count": 13,
   "id": "8a3d1c2e",
   "metadata": {},
   "outputs": [
    {
     "name": "stdout",
     "output_type": "stream",
     "text": [
      "<class 'pandas.core.frame.DataFrame'>\n",
      "RangeIndex: 499 entries, 0 to 498\n",
      "Data columns (total 25 columns):\n",
      " #   Column               Non-Null Count  Dtype  \n",
      "---  ------               --------------  -----  \n",
      " 0   ID                   499 non-null    int64  \n",
      " 1   Resort               499 non-null    object \n",
      " 2   Latitude             499 non-null    float64\n",
      " 3   Longitude            499 non-null    float64\n",
      " 4   Country              499 non-null    object \n",
      " 5   Continent            499 non-null    object \n",
      " 6   Price                499 non-null    int64  \n",
      " 7   Season               499 non-null    object \n",
      " 8   Highest point        499 non-null    int64  \n",
      " 9   Lowest point         499 non-null    int64  \n",
      " 10  Beginner slopes      499 non-null    int64  \n",
      " 11  Intermediate slopes  499 non-null    int64  \n",
      " 12  Difficult slopes     499 non-null    int64  \n",
      " 13  Total slopes         499 non-null    int64  \n",
      " 14  Longest run          499 non-null    int64  \n",
      " 15  Snow cannons         499 non-null    int64  \n",
      " 16  Surface lifts        499 non-null    int64  \n",
      " 17  Chair lifts          499 non-null    int64  \n",
      " 18  Gondola lifts        499 non-null    int64  \n",
      " 19  Total lifts          499 non-null    int64  \n",
      " 20  Lift capacity        499 non-null    int64  \n",
      " 21  Child friendly       499 non-null    object \n",
      " 22  Snowparks            499 non-null    object \n",
      " 23  Nightskiing          499 non-null    object \n",
      " 24  Summer skiing        499 non-null    object \n",
      "dtypes: float64(2), int64(15), object(8)\n",
      "memory usage: 97.6+ KB\n"
     ]
    }
   ],
   "source": [
    "resorts.info()"
   ]
  },
  {
   "cell_type": "code",
   "execution_count": 21,
   "id": "ae51557d",
   "metadata": {},
   "outputs": [
    {
     "data": {
      "text/plain": [
       "array(['Yes', 'No'], dtype=object)"
      ]
     },
     "execution_count": 21,
     "metadata": {},
     "output_type": "execute_result"
    }
   ],
   "source": [
    "resorts[\"Child friendly\"].unique()"
   ]
  },
  {
   "cell_type": "code",
   "execution_count": 9,
   "id": "aea766f7",
   "metadata": {},
   "outputs": [
    {
     "data": {
      "text/plain": [
       "ID                     0\n",
       "Resort                 0\n",
       "Latitude               0\n",
       "Longitude              0\n",
       "Country                0\n",
       "Continent              0\n",
       "Price                  0\n",
       "Season                 0\n",
       "Highest point          0\n",
       "Lowest point           0\n",
       "Beginner slopes        0\n",
       "Intermediate slopes    0\n",
       "Difficult slopes       0\n",
       "Total slopes           0\n",
       "Longest run            0\n",
       "Snow cannons           0\n",
       "Surface lifts          0\n",
       "Chair lifts            0\n",
       "Gondola lifts          0\n",
       "Total lifts            0\n",
       "Lift capacity          0\n",
       "Child friendly         0\n",
       "Snowparks              0\n",
       "Nightskiing            0\n",
       "Summer skiing          0\n",
       "dtype: int64"
      ]
     },
     "execution_count": 9,
     "metadata": {},
     "output_type": "execute_result"
    }
   ],
   "source": [
    "resorts.isna().sum()"
   ]
  },
  {
   "cell_type": "code",
   "execution_count": 10,
   "id": "7ec6848b",
   "metadata": {},
   "outputs": [
    {
     "data": {
      "text/plain": [
       "0"
      ]
     },
     "execution_count": 10,
     "metadata": {},
     "output_type": "execute_result"
    }
   ],
   "source": [
    "resorts.duplicated().sum()"
   ]
  },
  {
   "cell_type": "code",
   "execution_count": 14,
   "id": "16510d4d",
   "metadata": {},
   "outputs": [
    {
     "name": "stdout",
     "output_type": "stream",
     "text": [
      "<class 'pandas.core.frame.DataFrame'>\n",
      "RangeIndex: 820522 entries, 0 to 820521\n",
      "Data columns (total 4 columns):\n",
      " #   Column     Non-Null Count   Dtype  \n",
      "---  ------     --------------   -----  \n",
      " 0   Month      820522 non-null  object \n",
      " 1   Latitude   820522 non-null  float64\n",
      " 2   Longitude  820522 non-null  float64\n",
      " 3   Snow       820522 non-null  float64\n",
      "dtypes: float64(3), object(1)\n",
      "memory usage: 25.0+ MB\n"
     ]
    }
   ],
   "source": [
    "snow.info()"
   ]
  },
  {
   "cell_type": "code",
   "execution_count": 15,
   "id": "e0fcd318",
   "metadata": {},
   "outputs": [
    {
     "data": {
      "text/plain": [
       "Month        0\n",
       "Latitude     0\n",
       "Longitude    0\n",
       "Snow         0\n",
       "dtype: int64"
      ]
     },
     "execution_count": 15,
     "metadata": {},
     "output_type": "execute_result"
    }
   ],
   "source": [
    "snow.isna().sum()"
   ]
  },
  {
   "cell_type": "code",
   "execution_count": 16,
   "id": "ba3cb38b",
   "metadata": {},
   "outputs": [
    {
     "data": {
      "text/plain": [
       "0"
      ]
     },
     "execution_count": 16,
     "metadata": {},
     "output_type": "execute_result"
    }
   ],
   "source": [
    "snow.duplicated().sum()"
   ]
  },
  {
   "cell_type": "code",
   "execution_count": 19,
   "id": "c5f6697f",
   "metadata": {},
   "outputs": [
    {
     "data": {
      "text/html": [
       "<div>\n",
       "<style scoped>\n",
       "    .dataframe tbody tr th:only-of-type {\n",
       "        vertical-align: middle;\n",
       "    }\n",
       "\n",
       "    .dataframe tbody tr th {\n",
       "        vertical-align: top;\n",
       "    }\n",
       "\n",
       "    .dataframe thead th {\n",
       "        text-align: right;\n",
       "    }\n",
       "</style>\n",
       "<table border=\"1\" class=\"dataframe\">\n",
       "  <thead>\n",
       "    <tr style=\"text-align: right;\">\n",
       "      <th></th>\n",
       "      <th>Table</th>\n",
       "      <th>Field</th>\n",
       "      <th>Description</th>\n",
       "    </tr>\n",
       "  </thead>\n",
       "  <tbody>\n",
       "    <tr>\n",
       "      <th>0</th>\n",
       "      <td>Resorts</td>\n",
       "      <td>ID</td>\n",
       "      <td>Unique identifier for each resort</td>\n",
       "    </tr>\n",
       "    <tr>\n",
       "      <th>1</th>\n",
       "      <td>Resorts</td>\n",
       "      <td>Resort</td>\n",
       "      <td>Name of the ski &amp; snowboard resort</td>\n",
       "    </tr>\n",
       "    <tr>\n",
       "      <th>2</th>\n",
       "      <td>Resorts</td>\n",
       "      <td>Latitude</td>\n",
       "      <td>Latitude for the resort's location</td>\n",
       "    </tr>\n",
       "    <tr>\n",
       "      <th>3</th>\n",
       "      <td>Resorts</td>\n",
       "      <td>Longitude</td>\n",
       "      <td>Longitude for the resort's location</td>\n",
       "    </tr>\n",
       "    <tr>\n",
       "      <th>4</th>\n",
       "      <td>Resorts</td>\n",
       "      <td>Country</td>\n",
       "      <td>Country in which the resort is located</td>\n",
       "    </tr>\n",
       "    <tr>\n",
       "      <th>5</th>\n",
       "      <td>Resorts</td>\n",
       "      <td>Continent</td>\n",
       "      <td>Continent in which the resort is located</td>\n",
       "    </tr>\n",
       "    <tr>\n",
       "      <th>6</th>\n",
       "      <td>Resorts</td>\n",
       "      <td>Price</td>\n",
       "      <td>Ski pass cost for 1 adult for 1 day in the mai...</td>\n",
       "    </tr>\n",
       "    <tr>\n",
       "      <th>7</th>\n",
       "      <td>Resorts</td>\n",
       "      <td>Season</td>\n",
       "      <td>Normal start and end of the ski season at the ...</td>\n",
       "    </tr>\n",
       "    <tr>\n",
       "      <th>8</th>\n",
       "      <td>Resorts</td>\n",
       "      <td>Highest point</td>\n",
       "      <td>Highest mountain point at the resort (meters)</td>\n",
       "    </tr>\n",
       "    <tr>\n",
       "      <th>9</th>\n",
       "      <td>Resorts</td>\n",
       "      <td>Lowest point</td>\n",
       "      <td>Lowest possible point to ski at the resort (me...</td>\n",
       "    </tr>\n",
       "    <tr>\n",
       "      <th>10</th>\n",
       "      <td>Resorts</td>\n",
       "      <td>Beginner slopes</td>\n",
       "      <td>Total length of \"children\", \"blue\", and \"green...</td>\n",
       "    </tr>\n",
       "    <tr>\n",
       "      <th>11</th>\n",
       "      <td>Resorts</td>\n",
       "      <td>Intermediate slopes</td>\n",
       "      <td>Total length of \"red\" slopes at the resort (km)</td>\n",
       "    </tr>\n",
       "    <tr>\n",
       "      <th>12</th>\n",
       "      <td>Resorts</td>\n",
       "      <td>Difficult slopes</td>\n",
       "      <td>Total length of \"black\", \"advanced\", and \"expe...</td>\n",
       "    </tr>\n",
       "    <tr>\n",
       "      <th>13</th>\n",
       "      <td>Resorts</td>\n",
       "      <td>Total slopes</td>\n",
       "      <td>Total length of slopes at the resort (km)</td>\n",
       "    </tr>\n",
       "    <tr>\n",
       "      <th>14</th>\n",
       "      <td>Resorts</td>\n",
       "      <td>Longest run</td>\n",
       "      <td>Longest possible continuous run at the ski res...</td>\n",
       "    </tr>\n",
       "    <tr>\n",
       "      <th>15</th>\n",
       "      <td>Resorts</td>\n",
       "      <td>Snow cannons</td>\n",
       "      <td>Total amount of snow cannons at the resort</td>\n",
       "    </tr>\n",
       "    <tr>\n",
       "      <th>16</th>\n",
       "      <td>Resorts</td>\n",
       "      <td>Surface lifts</td>\n",
       "      <td>Total number of surface lifts, including T-bar...</td>\n",
       "    </tr>\n",
       "    <tr>\n",
       "      <th>17</th>\n",
       "      <td>Resorts</td>\n",
       "      <td>Chair lifts</td>\n",
       "      <td>Total number of chair lifts</td>\n",
       "    </tr>\n",
       "    <tr>\n",
       "      <th>18</th>\n",
       "      <td>Resorts</td>\n",
       "      <td>Gondola lifts</td>\n",
       "      <td>Total number of gondola lifts, including Gondo...</td>\n",
       "    </tr>\n",
       "    <tr>\n",
       "      <th>19</th>\n",
       "      <td>Resorts</td>\n",
       "      <td>Total lifts</td>\n",
       "      <td>Total number of lifts</td>\n",
       "    </tr>\n",
       "    <tr>\n",
       "      <th>20</th>\n",
       "      <td>Resorts</td>\n",
       "      <td>Lift capacity</td>\n",
       "      <td>Number of passengers the resort's lift system ...</td>\n",
       "    </tr>\n",
       "    <tr>\n",
       "      <th>21</th>\n",
       "      <td>Resorts</td>\n",
       "      <td>Child friendly</td>\n",
       "      <td>Is the ski resort child friendly?</td>\n",
       "    </tr>\n",
       "    <tr>\n",
       "      <th>22</th>\n",
       "      <td>Resorts</td>\n",
       "      <td>Snowparks</td>\n",
       "      <td>Does the resort have one or more snowparks?</td>\n",
       "    </tr>\n",
       "    <tr>\n",
       "      <th>23</th>\n",
       "      <td>Resorts</td>\n",
       "      <td>Nightskiing</td>\n",
       "      <td>Does the resort offer skiing on illuminated sl...</td>\n",
       "    </tr>\n",
       "    <tr>\n",
       "      <th>24</th>\n",
       "      <td>Resorts</td>\n",
       "      <td>Summer skiing</td>\n",
       "      <td>Does the resort offer skiing during the summer?</td>\n",
       "    </tr>\n",
       "    <tr>\n",
       "      <th>25</th>\n",
       "      <td>Snow</td>\n",
       "      <td>Month</td>\n",
       "      <td>Date to represent the month of the year (not j...</td>\n",
       "    </tr>\n",
       "    <tr>\n",
       "      <th>26</th>\n",
       "      <td>Snow</td>\n",
       "      <td>Latitude</td>\n",
       "      <td>Latitude at the center of the region (every \"r...</td>\n",
       "    </tr>\n",
       "    <tr>\n",
       "      <th>27</th>\n",
       "      <td>Snow</td>\n",
       "      <td>Longitude</td>\n",
       "      <td>Longitude at the center of the region (every \"...</td>\n",
       "    </tr>\n",
       "    <tr>\n",
       "      <th>28</th>\n",
       "      <td>Snow</td>\n",
       "      <td>Snow</td>\n",
       "      <td>Percent of time the region was covered in snow...</td>\n",
       "    </tr>\n",
       "  </tbody>\n",
       "</table>\n",
       "</div>"
      ],
      "text/plain": [
       "      Table                Field  \\\n",
       "0   Resorts                   ID   \n",
       "1   Resorts               Resort   \n",
       "2   Resorts             Latitude   \n",
       "3   Resorts            Longitude   \n",
       "4   Resorts              Country   \n",
       "5   Resorts            Continent   \n",
       "6   Resorts                Price   \n",
       "7   Resorts               Season   \n",
       "8   Resorts        Highest point   \n",
       "9   Resorts         Lowest point   \n",
       "10  Resorts      Beginner slopes   \n",
       "11  Resorts  Intermediate slopes   \n",
       "12  Resorts     Difficult slopes   \n",
       "13  Resorts         Total slopes   \n",
       "14  Resorts          Longest run   \n",
       "15  Resorts         Snow cannons   \n",
       "16  Resorts        Surface lifts   \n",
       "17  Resorts          Chair lifts   \n",
       "18  Resorts        Gondola lifts   \n",
       "19  Resorts          Total lifts   \n",
       "20  Resorts        Lift capacity   \n",
       "21  Resorts       Child friendly   \n",
       "22  Resorts            Snowparks   \n",
       "23  Resorts          Nightskiing   \n",
       "24  Resorts        Summer skiing   \n",
       "25     Snow                Month   \n",
       "26     Snow             Latitude   \n",
       "27     Snow            Longitude   \n",
       "28     Snow                 Snow   \n",
       "\n",
       "                                          Description  \n",
       "0                   Unique identifier for each resort  \n",
       "1                  Name of the ski & snowboard resort  \n",
       "2                  Latitude for the resort's location  \n",
       "3                 Longitude for the resort's location  \n",
       "4              Country in which the resort is located  \n",
       "5            Continent in which the resort is located  \n",
       "6   Ski pass cost for 1 adult for 1 day in the mai...  \n",
       "7   Normal start and end of the ski season at the ...  \n",
       "8       Highest mountain point at the resort (meters)  \n",
       "9   Lowest possible point to ski at the resort (me...  \n",
       "10  Total length of \"children\", \"blue\", and \"green...  \n",
       "11    Total length of \"red\" slopes at the resort (km)  \n",
       "12  Total length of \"black\", \"advanced\", and \"expe...  \n",
       "13          Total length of slopes at the resort (km)  \n",
       "14  Longest possible continuous run at the ski res...  \n",
       "15         Total amount of snow cannons at the resort  \n",
       "16  Total number of surface lifts, including T-bar...  \n",
       "17                        Total number of chair lifts  \n",
       "18  Total number of gondola lifts, including Gondo...  \n",
       "19                              Total number of lifts  \n",
       "20  Number of passengers the resort's lift system ...  \n",
       "21                  Is the ski resort child friendly?  \n",
       "22        Does the resort have one or more snowparks?  \n",
       "23  Does the resort offer skiing on illuminated sl...  \n",
       "24    Does the resort offer skiing during the summer?  \n",
       "25  Date to represent the month of the year (not j...  \n",
       "26  Latitude at the center of the region (every \"r...  \n",
       "27  Longitude at the center of the region (every \"...  \n",
       "28  Percent of time the region was covered in snow...  "
      ]
     },
     "execution_count": 19,
     "metadata": {},
     "output_type": "execute_result"
    }
   ],
   "source": [
    "sqldf(\"select * from data_dictionary\")"
   ]
  }
 ],
 "metadata": {
  "kernelspec": {
   "display_name": "Python 3 (ipykernel)",
   "language": "python",
   "name": "python3"
  },
  "language_info": {
   "codemirror_mode": {
    "name": "ipython",
    "version": 3
   },
   "file_extension": ".py",
   "mimetype": "text/x-python",
   "name": "python",
   "nbconvert_exporter": "python",
   "pygments_lexer": "ipython3",
   "version": "3.9.13"
  }
 },
 "nbformat": 4,
 "nbformat_minor": 5
}
